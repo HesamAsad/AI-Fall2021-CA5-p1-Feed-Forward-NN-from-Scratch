{
  "cells": [
    {
      "cell_type": "markdown",
      "metadata": {
        "id": "C1YeNtaNjgjc"
      },
      "source": [
        "<div style=\"direction:rtl;line-height:300%;background-color:#282C34;border-radius: 25px;\">\n",
        "    <img src='https://me.ut.ac.ir/documents/84413608/105534126/%D9%86%D8%B4%D8%A7%D9%86%20%D8%AF%D8%A7%D9%86%D8%B4%DA%AF%D8%A7%D9%87%20%D8%AA%D9%87%D8%B1%D8%A7%D9%86_%D8%AD%D8%A7%D8%B4%DB%8C%D9%87_vectorized2.png?t=1617776323063' alt=\"UT logo\" width=\"110\" height=\"110\" align=\"left\" style='padding-top: 15px; padding-left: 20px;'>\n",
        "    <img src=\"https://engstudent.ut.ac.ir/wp-content/uploads/Fanni-Transparent.png\" width=\"150\" height=\"112\" align=\"right\" style='padding-top: 15px; padding-right: 20px;'>\n",
        "    <font face=\"XB Zar\" size=5>\n",
        "        <div align=center>\n",
        "            <font face=\"IranNastaliq\" size=30 color=white>\n",
        "                <p></p>\n",
        "                <p></p>\n",
        "به نام خدا\n",
        "            </font>\n",
        "            <br />\n",
        "            <br />\n",
        "            <font color=#1597E5>\n",
        "دانشگاه تهران - دانشکده مهندسی برق و کامپیوتر\n",
        "            </font>\n",
        "            <br />\n",
        "            <font color=#69DADB>\n",
        "هوش مصنوعی\n",
        "            </font>\n",
        "            <br />\n",
        "            <font color=#FFA400>\n",
        "پاییز ۱۴۰۰\n",
        "        </div>\n",
        "        <hr color=#6ECB63/>\n",
        "        <font color=#FF5C58 size=6>\n",
        "            <div align=center>\n",
        "پروژه پنجم - شبکه‌های عصبی - فاز اول\n",
        "            </div>\n",
        "        </font>\n",
        "        <br />\n",
        "        <div align=center>\n",
        "        <font color=yellow>\n",
        "حسام اسداله‌زاده \n",
        "            <br />\n",
        "            شماره دانشجویی: ۸۱۰۱۹۸۳۴۶\n",
        "            </font>\n",
        "        </div>\n",
        "        <!hr color=#6ECB63/>\n",
        "        <style type=\"text/css\" scoped>\n",
        "        p{\n",
        "        border: 1px solid #a2a9b1;background-color: #f8f9fa;display: inline-block;\n",
        "        };\n",
        "        </style>            \n",
        "\n",
        "</div>\n",
        "</div>\n",
        "</div>"
      ]
    },
    {
      "cell_type": "code",
      "execution_count": 1,
      "metadata": {
        "id": "IrGkUQ3Mepu0"
      },
      "outputs": [],
      "source": [
        "import numpy as np\n",
        "import pandas as pd\n",
        "from matplotlib import pyplot as plt\n",
        "import seaborn as sns"
      ]
    },
    {
      "cell_type": "code",
      "execution_count": 2,
      "metadata": {
        "id": "4fSpzdEoJMp4"
      },
      "outputs": [],
      "source": [
        "import matplotlib.image as mpimg\n",
        "from PIL import Image"
      ]
    },
    {
      "cell_type": "code",
      "execution_count": 3,
      "metadata": {},
      "outputs": [],
      "source": [
        "from sklearn.model_selection import train_test_split\n",
        "from sklearn.utils import shuffle"
      ]
    },
    {
      "cell_type": "code",
      "execution_count": 4,
      "metadata": {},
      "outputs": [],
      "source": [
        "HORSE = 0\n",
        "CAT = 1"
      ]
    },
    {
      "cell_type": "code",
      "execution_count": 5,
      "metadata": {
        "colab": {
          "base_uri": "https://localhost:8080/"
        },
        "id": "z3r_v0wKGaTC",
        "outputId": "d10e4aa5-22ba-4575-ac0f-e807db93b911"
      },
      "outputs": [],
      "source": [
        "# from google.colab import drive\n",
        "# drive.mount('/content/drive')"
      ]
    },
    {
      "cell_type": "code",
      "execution_count": 6,
      "metadata": {
        "id": "Pb1Na_m0G6hj"
      },
      "outputs": [],
      "source": [
        "# !unzip \"/content/drive/MyDrive/cifar_dataset.zip\" -d \"/content/drive/MyDrive/cifar\""
      ]
    },
    {
      "cell_type": "code",
      "execution_count": 7,
      "metadata": {
        "id": "prcEnp67HxVq"
      },
      "outputs": [],
      "source": [
        "df = pd.read_csv('labels.csv')"
      ]
    },
    {
      "cell_type": "code",
      "execution_count": 8,
      "metadata": {
        "colab": {
          "base_uri": "https://localhost:8080/",
          "height": 423
        },
        "id": "c_jCjMl3H03z",
        "outputId": "61808fd5-6368-4355-e0a5-5f7559718556"
      },
      "outputs": [
        {
          "data": {
            "text/html": [
              "<div>\n",
              "<style scoped>\n",
              "    .dataframe tbody tr th:only-of-type {\n",
              "        vertical-align: middle;\n",
              "    }\n",
              "\n",
              "    .dataframe tbody tr th {\n",
              "        vertical-align: top;\n",
              "    }\n",
              "\n",
              "    .dataframe thead th {\n",
              "        text-align: right;\n",
              "    }\n",
              "</style>\n",
              "<table border=\"1\" class=\"dataframe\">\n",
              "  <thead>\n",
              "    <tr style=\"text-align: right;\">\n",
              "      <th></th>\n",
              "      <th>id</th>\n",
              "      <th>label</th>\n",
              "    </tr>\n",
              "  </thead>\n",
              "  <tbody>\n",
              "    <tr>\n",
              "      <th>0</th>\n",
              "      <td>8</td>\n",
              "      <td>horse</td>\n",
              "    </tr>\n",
              "    <tr>\n",
              "      <th>1</th>\n",
              "      <td>10</td>\n",
              "      <td>cat</td>\n",
              "    </tr>\n",
              "    <tr>\n",
              "      <th>2</th>\n",
              "      <td>12</td>\n",
              "      <td>horse</td>\n",
              "    </tr>\n",
              "    <tr>\n",
              "      <th>3</th>\n",
              "      <td>13</td>\n",
              "      <td>horse</td>\n",
              "    </tr>\n",
              "    <tr>\n",
              "      <th>4</th>\n",
              "      <td>18</td>\n",
              "      <td>cat</td>\n",
              "    </tr>\n",
              "    <tr>\n",
              "      <th>...</th>\n",
              "      <td>...</td>\n",
              "      <td>...</td>\n",
              "    </tr>\n",
              "    <tr>\n",
              "      <th>9995</th>\n",
              "      <td>49979</td>\n",
              "      <td>horse</td>\n",
              "    </tr>\n",
              "    <tr>\n",
              "      <th>9996</th>\n",
              "      <td>49980</td>\n",
              "      <td>cat</td>\n",
              "    </tr>\n",
              "    <tr>\n",
              "      <th>9997</th>\n",
              "      <td>49983</td>\n",
              "      <td>cat</td>\n",
              "    </tr>\n",
              "    <tr>\n",
              "      <th>9998</th>\n",
              "      <td>49984</td>\n",
              "      <td>cat</td>\n",
              "    </tr>\n",
              "    <tr>\n",
              "      <th>9999</th>\n",
              "      <td>49987</td>\n",
              "      <td>horse</td>\n",
              "    </tr>\n",
              "  </tbody>\n",
              "</table>\n",
              "<p>10000 rows × 2 columns</p>\n",
              "</div>"
            ],
            "text/plain": [
              "         id  label\n",
              "0         8  horse\n",
              "1        10    cat\n",
              "2        12  horse\n",
              "3        13  horse\n",
              "4        18    cat\n",
              "...     ...    ...\n",
              "9995  49979  horse\n",
              "9996  49980    cat\n",
              "9997  49983    cat\n",
              "9998  49984    cat\n",
              "9999  49987  horse\n",
              "\n",
              "[10000 rows x 2 columns]"
            ]
          },
          "execution_count": 8,
          "metadata": {},
          "output_type": "execute_result"
        }
      ],
      "source": [
        "df"
      ]
    },
    {
      "cell_type": "code",
      "execution_count": 9,
      "metadata": {
        "colab": {
          "base_uri": "https://localhost:8080/",
          "height": 423
        },
        "id": "kt1dnu-ZQst-",
        "outputId": "c615a92f-4f85-46a9-9d14-b948385ed36a"
      },
      "outputs": [
        {
          "data": {
            "text/html": [
              "<div>\n",
              "<style scoped>\n",
              "    .dataframe tbody tr th:only-of-type {\n",
              "        vertical-align: middle;\n",
              "    }\n",
              "\n",
              "    .dataframe tbody tr th {\n",
              "        vertical-align: top;\n",
              "    }\n",
              "\n",
              "    .dataframe thead th {\n",
              "        text-align: right;\n",
              "    }\n",
              "</style>\n",
              "<table border=\"1\" class=\"dataframe\">\n",
              "  <thead>\n",
              "    <tr style=\"text-align: right;\">\n",
              "      <th></th>\n",
              "      <th>id</th>\n",
              "      <th>label</th>\n",
              "    </tr>\n",
              "  </thead>\n",
              "  <tbody>\n",
              "    <tr>\n",
              "      <th>0</th>\n",
              "      <td>8</td>\n",
              "      <td>0</td>\n",
              "    </tr>\n",
              "    <tr>\n",
              "      <th>1</th>\n",
              "      <td>10</td>\n",
              "      <td>1</td>\n",
              "    </tr>\n",
              "    <tr>\n",
              "      <th>2</th>\n",
              "      <td>12</td>\n",
              "      <td>0</td>\n",
              "    </tr>\n",
              "    <tr>\n",
              "      <th>3</th>\n",
              "      <td>13</td>\n",
              "      <td>0</td>\n",
              "    </tr>\n",
              "    <tr>\n",
              "      <th>4</th>\n",
              "      <td>18</td>\n",
              "      <td>1</td>\n",
              "    </tr>\n",
              "    <tr>\n",
              "      <th>...</th>\n",
              "      <td>...</td>\n",
              "      <td>...</td>\n",
              "    </tr>\n",
              "    <tr>\n",
              "      <th>9995</th>\n",
              "      <td>49979</td>\n",
              "      <td>0</td>\n",
              "    </tr>\n",
              "    <tr>\n",
              "      <th>9996</th>\n",
              "      <td>49980</td>\n",
              "      <td>1</td>\n",
              "    </tr>\n",
              "    <tr>\n",
              "      <th>9997</th>\n",
              "      <td>49983</td>\n",
              "      <td>1</td>\n",
              "    </tr>\n",
              "    <tr>\n",
              "      <th>9998</th>\n",
              "      <td>49984</td>\n",
              "      <td>1</td>\n",
              "    </tr>\n",
              "    <tr>\n",
              "      <th>9999</th>\n",
              "      <td>49987</td>\n",
              "      <td>0</td>\n",
              "    </tr>\n",
              "  </tbody>\n",
              "</table>\n",
              "<p>10000 rows × 2 columns</p>\n",
              "</div>"
            ],
            "text/plain": [
              "         id  label\n",
              "0         8      0\n",
              "1        10      1\n",
              "2        12      0\n",
              "3        13      0\n",
              "4        18      1\n",
              "...     ...    ...\n",
              "9995  49979      0\n",
              "9996  49980      1\n",
              "9997  49983      1\n",
              "9998  49984      1\n",
              "9999  49987      0\n",
              "\n",
              "[10000 rows x 2 columns]"
            ]
          },
          "execution_count": 9,
          "metadata": {},
          "output_type": "execute_result"
        }
      ],
      "source": [
        "cat_map = {'horse': HORSE, 'cat': CAT}\n",
        "df['label'] = df['label'].map(cat_map)\n",
        "df"
      ]
    },
    {
      "cell_type": "code",
      "execution_count": 10,
      "metadata": {
        "colab": {
          "base_uri": "https://localhost:8080/",
          "height": 297
        },
        "id": "t5VmdlHSIWha",
        "outputId": "74556ec0-045b-4e0e-9cb0-e75bf8583c92"
      },
      "outputs": [
        {
          "data": {
            "image/png": "[encoded data removed]",
            "text/plain": [
              "<Figure size 432x288 with 4 Axes>"
            ]
          },
          "metadata": {
            "needs_background": "light"
          },
          "output_type": "display_data"
        }
      ],
      "source": [
        "img = mpimg.imread('./data\\\\8.png')\n",
        "plt.subplot(221)\n",
        "plt.imshow(img)\n",
        "plt.title('horse')\n",
        "img = mpimg.imread('./data\\\\10.png')\n",
        "plt.subplot(222)\n",
        "plt.imshow(img)\n",
        "plt.title('cat')\n",
        "img = mpimg.imread('./data\\\\12.png')\n",
        "plt.subplot(223)\n",
        "plt.imshow(img)\n",
        "plt.title('horse')\n",
        "img = mpimg.imread('./data\\\\18.png')\n",
        "plt.subplot(224)\n",
        "plt.imshow(img)\n",
        "plt.title('cat')\n",
        "plt.tight_layout()\n",
        "plt.show()"
      ]
    },
    {
      "cell_type": "code",
      "execution_count": 11,
      "metadata": {
        "colab": {
          "base_uri": "https://localhost:8080/",
          "height": 370
        },
        "id": "V8iqlR8S758t",
        "outputId": "678d0879-f4b0-4a02-b307-c5b042330537"
      },
      "outputs": [],
      "source": [
        "images = [None]*len(df)\n",
        "for i in range(len(df)):\n",
        "    im=Image.open('./data\\\\'+str(df['id'][i])+'.png').convert('L')\n",
        "    images[i] = list(np.array(im).flatten())\n",
        "    im.close()"
      ]
    },
    {
      "cell_type": "code",
      "execution_count": 12,
      "metadata": {
        "id": "7729v2r_9ZFV"
      },
      "outputs": [
        {
          "data": {
            "text/html": [
              "<div>\n",
              "<style scoped>\n",
              "    .dataframe tbody tr th:only-of-type {\n",
              "        vertical-align: middle;\n",
              "    }\n",
              "\n",
              "    .dataframe tbody tr th {\n",
              "        vertical-align: top;\n",
              "    }\n",
              "\n",
              "    .dataframe thead th {\n",
              "        text-align: right;\n",
              "    }\n",
              "</style>\n",
              "<table border=\"1\" class=\"dataframe\">\n",
              "  <thead>\n",
              "    <tr style=\"text-align: right;\">\n",
              "      <th></th>\n",
              "      <th>id</th>\n",
              "      <th>label</th>\n",
              "      <th>img</th>\n",
              "    </tr>\n",
              "  </thead>\n",
              "  <tbody>\n",
              "    <tr>\n",
              "      <th>0</th>\n",
              "      <td>8</td>\n",
              "      <td>0</td>\n",
              "      <td>[33, 34, 41, 75, 76, 43, 42, 56, 70, 77, 102, ...</td>\n",
              "    </tr>\n",
              "    <tr>\n",
              "      <th>1</th>\n",
              "      <td>10</td>\n",
              "      <td>1</td>\n",
              "      <td>[124, 103, 93, 99, 101, 136, 171, 170, 143, 93...</td>\n",
              "    </tr>\n",
              "    <tr>\n",
              "      <th>2</th>\n",
              "      <td>12</td>\n",
              "      <td>0</td>\n",
              "      <td>[147, 171, 169, 173, 201, 212, 196, 135, 119, ...</td>\n",
              "    </tr>\n",
              "    <tr>\n",
              "      <th>3</th>\n",
              "      <td>13</td>\n",
              "      <td>0</td>\n",
              "      <td>[203, 200, 200, 201, 201, 201, 202, 202, 202, ...</td>\n",
              "    </tr>\n",
              "    <tr>\n",
              "      <th>4</th>\n",
              "      <td>18</td>\n",
              "      <td>1</td>\n",
              "      <td>[105, 135, 145, 130, 82, 55, 48, 52, 52, 53, 5...</td>\n",
              "    </tr>\n",
              "    <tr>\n",
              "      <th>...</th>\n",
              "      <td>...</td>\n",
              "      <td>...</td>\n",
              "      <td>...</td>\n",
              "    </tr>\n",
              "    <tr>\n",
              "      <th>9995</th>\n",
              "      <td>49979</td>\n",
              "      <td>0</td>\n",
              "      <td>[162, 83, 104, 107, 104, 104, 108, 119, 126, 1...</td>\n",
              "    </tr>\n",
              "    <tr>\n",
              "      <th>9996</th>\n",
              "      <td>49980</td>\n",
              "      <td>1</td>\n",
              "      <td>[4, 4, 5, 0, 65, 174, 167, 154, 153, 150, 113,...</td>\n",
              "    </tr>\n",
              "    <tr>\n",
              "      <th>9997</th>\n",
              "      <td>49983</td>\n",
              "      <td>1</td>\n",
              "      <td>[41, 39, 39, 40, 42, 42, 44, 46, 47, 48, 49, 5...</td>\n",
              "    </tr>\n",
              "    <tr>\n",
              "      <th>9998</th>\n",
              "      <td>49984</td>\n",
              "      <td>1</td>\n",
              "      <td>[32, 32, 30, 31, 33, 37, 38, 41, 88, 147, 164,...</td>\n",
              "    </tr>\n",
              "    <tr>\n",
              "      <th>9999</th>\n",
              "      <td>49987</td>\n",
              "      <td>0</td>\n",
              "      <td>[141, 141, 142, 142, 143, 143, 144, 144, 144, ...</td>\n",
              "    </tr>\n",
              "  </tbody>\n",
              "</table>\n",
              "<p>10000 rows × 3 columns</p>\n",
              "</div>"
            ],
            "text/plain": [
              "         id  label                                                img\n",
              "0         8      0  [33, 34, 41, 75, 76, 43, 42, 56, 70, 77, 102, ...\n",
              "1        10      1  [124, 103, 93, 99, 101, 136, 171, 170, 143, 93...\n",
              "2        12      0  [147, 171, 169, 173, 201, 212, 196, 135, 119, ...\n",
              "3        13      0  [203, 200, 200, 201, 201, 201, 202, 202, 202, ...\n",
              "4        18      1  [105, 135, 145, 130, 82, 55, 48, 52, 52, 53, 5...\n",
              "...     ...    ...                                                ...\n",
              "9995  49979      0  [162, 83, 104, 107, 104, 104, 108, 119, 126, 1...\n",
              "9996  49980      1  [4, 4, 5, 0, 65, 174, 167, 154, 153, 150, 113,...\n",
              "9997  49983      1  [41, 39, 39, 40, 42, 42, 44, 46, 47, 48, 49, 5...\n",
              "9998  49984      1  [32, 32, 30, 31, 33, 37, 38, 41, 88, 147, 164,...\n",
              "9999  49987      0  [141, 141, 142, 142, 143, 143, 144, 144, 144, ...\n",
              "\n",
              "[10000 rows x 3 columns]"
            ]
          },
          "execution_count": 12,
          "metadata": {},
          "output_type": "execute_result"
        }
      ],
      "source": [
        "df['img'] = images\n",
        "df"
      ]
    },
    {
      "cell_type": "code",
      "execution_count": 13,
      "metadata": {},
      "outputs": [
        {
          "data": {
            "text/html": [
              "<div>\n",
              "<style scoped>\n",
              "    .dataframe tbody tr th:only-of-type {\n",
              "        vertical-align: middle;\n",
              "    }\n",
              "\n",
              "    .dataframe tbody tr th {\n",
              "        vertical-align: top;\n",
              "    }\n",
              "\n",
              "    .dataframe thead th {\n",
              "        text-align: right;\n",
              "    }\n",
              "</style>\n",
              "<table border=\"1\" class=\"dataframe\">\n",
              "  <thead>\n",
              "    <tr style=\"text-align: right;\">\n",
              "      <th></th>\n",
              "      <th>img</th>\n",
              "    </tr>\n",
              "  </thead>\n",
              "  <tbody>\n",
              "    <tr>\n",
              "      <th>8701</th>\n",
              "      <td>[103, 81, 85, 83, 79, 73, 101, 95, 73, 84, 86,...</td>\n",
              "    </tr>\n",
              "    <tr>\n",
              "      <th>3429</th>\n",
              "      <td>[6, 7, 8, 10, 11, 13, 10, 7, 14, 11, 7, 20, 42...</td>\n",
              "    </tr>\n",
              "    <tr>\n",
              "      <th>8870</th>\n",
              "      <td>[237, 236, 236, 237, 237, 237, 237, 237, 237, ...</td>\n",
              "    </tr>\n",
              "    <tr>\n",
              "      <th>6962</th>\n",
              "      <td>[250, 247, 249, 248, 246, 248, 249, 249, 249, ...</td>\n",
              "    </tr>\n",
              "    <tr>\n",
              "      <th>2088</th>\n",
              "      <td>[255, 255, 255, 255, 255, 255, 255, 255, 255, ...</td>\n",
              "    </tr>\n",
              "  </tbody>\n",
              "</table>\n",
              "</div>"
            ],
            "text/plain": [
              "                                                    img\n",
              "8701  [103, 81, 85, 83, 79, 73, 101, 95, 73, 84, 86,...\n",
              "3429  [6, 7, 8, 10, 11, 13, 10, 7, 14, 11, 7, 20, 42...\n",
              "8870  [237, 236, 236, 237, 237, 237, 237, 237, 237, ...\n",
              "6962  [250, 247, 249, 248, 246, 248, 249, 249, 249, ...\n",
              "2088  [255, 255, 255, 255, 255, 255, 255, 255, 255, ..."
            ]
          },
          "execution_count": 13,
          "metadata": {},
          "output_type": "execute_result"
        }
      ],
      "source": [
        "X_train, X_test, Y_train, Y_test = train_test_split(df[['img']], df['label'], test_size=0.15, random_state=42)\n",
        "X_train.head()"
      ]
    },
    {
      "cell_type": "code",
      "execution_count": 14,
      "metadata": {},
      "outputs": [
        {
          "data": {
            "text/plain": [
              "(0, 255)"
            ]
          },
          "execution_count": 14,
          "metadata": {},
          "output_type": "execute_result"
        }
      ],
      "source": [
        "min([min(df['img'][i]) for i in range(len(df))]), max([max(df['img'][i]) for i in range(len(df))])"
      ]
    },
    {
      "cell_type": "code",
      "execution_count": 15,
      "metadata": {},
      "outputs": [
        {
          "data": {
            "image/png": "[encoded data removed]",
            "text/plain": [
              "<Figure size 432x288 with 2 Axes>"
            ]
          },
          "metadata": {
            "needs_background": "light"
          },
          "output_type": "display_data"
        }
      ],
      "source": [
        "sample = X_train[Y_train==HORSE].sample()['img']\n",
        "sample2 = X_train[Y_train==CAT].sample()['img']\n",
        "plt.subplot(121)\n",
        "plt.imshow(np.reshape(sample[sample.index[0]],(32,32)), cmap='gray')\n",
        "plt.title('Horse')\n",
        "plt.subplot(122)\n",
        "plt.imshow(np.reshape(sample2[sample2.index[0]], (32,32)), cmap='gray')\n",
        "plt.title('Cat')\n",
        "plt.show()"
      ]
    },
    {
      "cell_type": "code",
      "execution_count": 16,
      "metadata": {},
      "outputs": [
        {
          "data": {
            "image/png": "[encoded data removed]",
            "text/plain": [
              "<Figure size 720x360 with 2 Axes>"
            ]
          },
          "metadata": {
            "needs_background": "light"
          },
          "output_type": "display_data"
        }
      ],
      "source": [
        "f = plt.figure(figsize=(10,5))\n",
        "ax = f.add_subplot(121)\n",
        "ax2 = f.add_subplot(122)\n",
        "ax.bar(['Horse', 'Cat'], [len(Y_train)-Y_train.sum(), Y_train.sum()])\n",
        "ax2.bar(['Horse', 'Cat'], [len(Y_test)-Y_test.sum(), Y_test.sum()])\n",
        "ax.set_title('train')\n",
        "ax2.set_title('test')\n",
        "plt.show()"
      ]
    },
    {
      "cell_type": "code",
      "execution_count": 17,
      "metadata": {},
      "outputs": [
        {
          "data": {
            "text/html": [
              "<div>\n",
              "<style scoped>\n",
              "    .dataframe tbody tr th:only-of-type {\n",
              "        vertical-align: middle;\n",
              "    }\n",
              "\n",
              "    .dataframe tbody tr th {\n",
              "        vertical-align: top;\n",
              "    }\n",
              "\n",
              "    .dataframe thead th {\n",
              "        text-align: right;\n",
              "    }\n",
              "</style>\n",
              "<table border=\"1\" class=\"dataframe\">\n",
              "  <thead>\n",
              "    <tr style=\"text-align: right;\">\n",
              "      <th></th>\n",
              "      <th>img</th>\n",
              "    </tr>\n",
              "  </thead>\n",
              "  <tbody>\n",
              "    <tr>\n",
              "      <th>8701</th>\n",
              "      <td>[0.403921568627451, 0.3176470588235294, 0.3333...</td>\n",
              "    </tr>\n",
              "    <tr>\n",
              "      <th>3429</th>\n",
              "      <td>[0.023529411764705882, 0.027450980392156862, 0...</td>\n",
              "    </tr>\n",
              "    <tr>\n",
              "      <th>8870</th>\n",
              "      <td>[0.9294117647058824, 0.9254901960784314, 0.925...</td>\n",
              "    </tr>\n",
              "    <tr>\n",
              "      <th>6962</th>\n",
              "      <td>[0.9803921568627451, 0.9686274509803922, 0.976...</td>\n",
              "    </tr>\n",
              "    <tr>\n",
              "      <th>2088</th>\n",
              "      <td>[1.0, 1.0, 1.0, 1.0, 1.0, 1.0, 1.0, 1.0, 1.0, ...</td>\n",
              "    </tr>\n",
              "  </tbody>\n",
              "</table>\n",
              "</div>"
            ],
            "text/plain": [
              "                                                    img\n",
              "8701  [0.403921568627451, 0.3176470588235294, 0.3333...\n",
              "3429  [0.023529411764705882, 0.027450980392156862, 0...\n",
              "8870  [0.9294117647058824, 0.9254901960784314, 0.925...\n",
              "6962  [0.9803921568627451, 0.9686274509803922, 0.976...\n",
              "2088  [1.0, 1.0, 1.0, 1.0, 1.0, 1.0, 1.0, 1.0, 1.0, ..."
            ]
          },
          "execution_count": 17,
          "metadata": {},
          "output_type": "execute_result"
        }
      ],
      "source": [
        "res = []\n",
        "for x in X_train['img']:\n",
        "    res.append(list(np.array(x)/255))\n",
        "X_train['img'] = res\n",
        "res = []\n",
        "for x in X_test['img']:\n",
        "    res.append(list(np.array(x)/255))\n",
        "X_test['img'] = res\n",
        "X_train.head()"
      ]
    },
    {
      "cell_type": "markdown",
      "metadata": {
        "id": "Ns3-GCeojRH7"
      },
      "source": [
        "# Dataloader"
      ]
    },
    {
      "cell_type": "code",
      "execution_count": 18,
      "metadata": {
        "id": "BcB-qunNjRIH"
      },
      "outputs": [],
      "source": [
        "class Dataloader:\n",
        "    '''\n",
        "    This class prepares the dataset for the neural network.\n",
        "    '''\n",
        "    \n",
        "    def __init__(self, data, labels, n_classes, batch_size=None, shuffle=False):\n",
        "        '''\n",
        "        This is the constructor. It gets dataset information and initializes the \n",
        "        Dataloader class fields.\n",
        "            Parameters:\n",
        "                data: features your dataset in pandas.Dataframe format.\n",
        "                labels: labels of your dataset in pandas.Dataframe format.\n",
        "                n_classes: number of classes you have in your dataset.\n",
        "                batch_size: the number of samples that will be propagated through the network.\n",
        "                shuffle: boolean value indicating whether or not the dataset should be shuffled\n",
        "        '''\n",
        "\n",
        "        assert len(data)==len(labels)\n",
        "        self.__n_classes = n_classes\n",
        "        self.__batch_size = batch_size\n",
        "        self.__shuffle = shuffle\n",
        "        self.__data = data\n",
        "        self.__onehot_labels = self.__onehot(labels, self.__n_classes)\n",
        "    \n",
        "    def __onehot(self, labels, n_classes):\n",
        "        '''\n",
        "        This private method gets labels and provides one_hot vectors of labels.\n",
        "        For categorical variables where no such ordinal relationship exists,\n",
        "        the integer encoding is not enough.\n",
        "        In this case, a one-hot encoding can be applied to the integer representation.\n",
        "        This is where the integer encoded variable is removed, and a new binary variable is\n",
        "        added for each unique integer value.\n",
        "        example:\n",
        "            red,    green,    blue\n",
        "            1,      0,        0\n",
        "            0,      1,        0\n",
        "            0,      0,        1\n",
        "                Parameters:\n",
        "                        label: lables of your dataset in pandas.Dataframe format.\n",
        "                        n_classes: number of classes you have in your dataset.\n",
        "                \n",
        "                Returns:\n",
        "                    onehot_vectors: onehot vectors of the labels\n",
        "        '''\n",
        "        # TODO: Implement\n",
        "        labels = labels.astype(int)\n",
        "        onehot_vectors = np.zeros((labels.size, n_classes))\n",
        "        onehot_vectors[np.arange(labels.size), labels['label']] = 1.0\n",
        "        return onehot_vectors\n",
        "    \n",
        "    def __shuffle_dataset(self):\n",
        "        '''\n",
        "        This private method shuffles your dataset.\n",
        "        It uses data and onehot_labels to shuffle them\n",
        "        symmetrical.\n",
        "        '''\n",
        "        # TODO: Implement\n",
        "        self.__data, self.__onehot_labels = shuffle(self.__data, self.__onehot_labels)\n",
        "    \n",
        "    def __iter__(self):\n",
        "        '''\n",
        "        The __iter__() function returns an iterator for the\n",
        "        given object (array, set, tuple, etc., or custom objects).\n",
        "        This will return your dataset in the batch_size given. This should\n",
        "        be used to provide data for the neural network.\n",
        "        '''\n",
        "        \n",
        "        if self.__shuffle:\n",
        "            self.__shuffle_dataset()\n",
        "            \n",
        "        if self.__batch_size==None:\n",
        "            yield (np.matrix(self.__data), np.matrix(self.__onehot_labels))\n",
        "            return\n",
        "            \n",
        "        for idx in range(0, len(self.__data), self.__batch_size):\n",
        "            yield (np.matrix(self.__data[idx:idx+self.__batch_size]), \n",
        "                   np.matrix(self.__onehot_labels[idx:idx+self.__batch_size]))\n",
        "    "
      ]
    },
    {
      "cell_type": "markdown",
      "metadata": {
        "id": "g6AbssTZjRIK"
      },
      "source": [
        "# Activation Functions"
      ]
    },
    {
      "cell_type": "markdown",
      "metadata": {
        "id": "yEQw354mnykr"
      },
      "source": [
        "## Identical Activation Function"
      ]
    },
    {
      "cell_type": "code",
      "execution_count": 19,
      "metadata": {
        "id": "V-2ICvqkjRIL"
      },
      "outputs": [],
      "source": [
        "class Identical:\n",
        "    '''\n",
        "    This is the Identical activation function. This activation function just\n",
        "    return the value it gets.\n",
        "    '''\n",
        "    \n",
        "    def __init__(self): pass\n",
        "    '''\n",
        "    This is the constructor. It does not have any fields\n",
        "    as a result, there is no need to do anything in the constructor.\n",
        "    '''\n",
        "    \n",
        "    def __val(self, matrix):\n",
        "        '''\n",
        "        This private method gets a matrix and uses the activity function on that.\n",
        "        As this is an identical activity function, it just \n",
        "        returns np.matrix of the input.\n",
        "        \n",
        "            Parameters:\n",
        "                matrix: np.matrix of values\n",
        "            Returns:\n",
        "                identical_value: np.matrix of input with float datatypes\n",
        "        '''\n",
        "        identical_value = np.matrix(matrix, dtype=float)\n",
        "        return identical_value\n",
        "\n",
        "    def derivative(self, matrix):\n",
        "        '''\n",
        "        This method returns the derivation of the input.\n",
        "        As the derivation of x is one, this method returns\n",
        "        a matrix of one with the shape of the input matrix.\n",
        "        \n",
        "            Parameters:\n",
        "                matrix: np.matrix of values\n",
        "            Returns:\n",
        "                identical_derivative: np.matrix of ones with matrix shape\n",
        "        '''\n",
        "        identical_derivative = np.matrix(np.ones(matrix.shape))\n",
        "        return identical_derivative\n",
        "    \n",
        "    def __call__(self, matrix):\n",
        "        '''\n",
        "        __call__ is a special function in Python that, when implemented inside a class,\n",
        "        gives its instances (objects) the ability to behave like a function.\n",
        "        Here we return the _value method output.\n",
        "            \n",
        "            Parameters:\n",
        "                matrix: np.matrix of values\n",
        "            Returns:\n",
        "                __val(matrix): __val return value for the input matrix\n",
        "        '''\n",
        "        return self.__val(matrix)\n"
      ]
    },
    {
      "cell_type": "code",
      "execution_count": 20,
      "metadata": {},
      "outputs": [
        {
          "name": "stdout",
          "output_type": "stream",
          "text": [
            "[[-1.  2.]\n",
            " [ 3. -4.]]\n",
            "[[1. 1.]\n",
            " [1. 1.]]\n"
          ]
        }
      ],
      "source": [
        "m = np.matrix([[-1,2],[3,-4]])\n",
        "identical = Identical()\n",
        "print(identical(m))\n",
        "print(identical.derivative(m))"
      ]
    },
    {
      "cell_type": "markdown",
      "metadata": {
        "id": "OnVG1EsIn51O"
      },
      "source": [
        "## RELU Activation Function"
      ]
    },
    {
      "cell_type": "code",
      "execution_count": 21,
      "metadata": {
        "id": "IINJj7FHn8NO"
      },
      "outputs": [],
      "source": [
        "class Relu:\n",
        "    '''\n",
        "    This is the Relu activation function. \n",
        "    The rectified linear activation function or ReLU for short\n",
        "    is a piecewise linear function that will output the input directly\n",
        "    if it is positive, otherwise, it will output zero.\n",
        "    '''\n",
        "    \n",
        "    def __init__(self): pass\n",
        "    '''\n",
        "    This is the constructor. It does not have any fields\n",
        "    as a result, there is no need to do anything in the constructor.\n",
        "    '''\n",
        "    \n",
        "    def __val(self, matrix):\n",
        "        '''\n",
        "        This private method gets a matrix and uses the activity function on that.\n",
        "        It will set 0 in the matrix if the value is less than 0 else, it returns the value itself.\n",
        "        \n",
        "            Parameters:\n",
        "                matrix: np.matrix of values\n",
        "            Returns:\n",
        "                relu_value: np.matrix of relu activation function result\n",
        "        '''\n",
        "        # TODO: Implement\n",
        "        relu_value = np.array(matrix, dtype=float)\n",
        "        relu_value = np.maximum(relu_value, 0) #or using np.where()\n",
        "        return relu_value\n",
        "\n",
        "    def derivative(self, matrix):\n",
        "        '''\n",
        "        Returns the derivation value of relu function on input matrix.\n",
        "        \n",
        "            Parameters:\n",
        "                matrix: np.matrix of values\n",
        "            Returns:\n",
        "                relu_derivative: np.matrix of relu activation function derivation result\n",
        "        '''\n",
        "        # TODO: Implement\n",
        "        relu_derivative = np.array(matrix, dtype=float)\n",
        "        relu_derivative = np.where(relu_derivative > 0, 1.0, 0.0)\n",
        "        return relu_derivative\n",
        "    \n",
        "    def __call__(self, matrix):\n",
        "        '''\n",
        "        __call__ is a special function in Python that, when implemented inside a class,\n",
        "        gives its instances (objects) the ability to behave like a function.\n",
        "        Here we return the _relu method output.\n",
        "            \n",
        "            Parameters:\n",
        "                matrix: np.matrix of values\n",
        "            Returns:\n",
        "                __relu(matrix): __relu return value for the input matrix\n",
        "        '''\n",
        "        return self.__val(matrix)\n"
      ]
    },
    {
      "cell_type": "code",
      "execution_count": 22,
      "metadata": {},
      "outputs": [
        {
          "name": "stdout",
          "output_type": "stream",
          "text": [
            "[[0. 2.]\n",
            " [3. 0.]]\n",
            "[[0. 1.]\n",
            " [1. 0.]]\n"
          ]
        }
      ],
      "source": [
        "m = np.matrix([[-1,2],[3,-4]])\n",
        "relu = Relu()\n",
        "print(relu(m))\n",
        "print(relu.derivative(m))"
      ]
    },
    {
      "cell_type": "markdown",
      "metadata": {
        "id": "tj2tVr9KoB9k"
      },
      "source": [
        "## LeakyRELU Activation Function"
      ]
    },
    {
      "cell_type": "code",
      "execution_count": 23,
      "metadata": {
        "id": "VKmEYcEfoE87"
      },
      "outputs": [],
      "source": [
        "class LeakyRelu:\n",
        "    '''\n",
        "    This is the Leaky Relu activation function. \n",
        "    Leaky Rectified Linear Unit, or Leaky ReLU,\n",
        "    is a type of activation function based on a ReLU,\n",
        "    but it has a small slope for negative values instead\n",
        "    of a flat slope.\n",
        "    '''\n",
        "    \n",
        "    def __init__(self, negative_slope=0.01):\n",
        "        '''\n",
        "        This is the constructor.\n",
        "        It sets negative_slope field.\n",
        "            Parameters:\n",
        "                negative_slope: slope for negative input values\n",
        "        '''\n",
        "        self.negative_slope = negative_slope\n",
        "    \n",
        "    def __val(self, matrix):\n",
        "        '''\n",
        "        This private method gets a matrix and uses the activity function on that.\n",
        "        It will set negative_slope*value in the matrix if the value is less than 0, else it\n",
        "        returns the value itself.\n",
        "        \n",
        "            Parameters:\n",
        "                matrix: np.matrix of values\n",
        "            Returns:\n",
        "                relu_value: np.matrix of relu activation function result\n",
        "        '''\n",
        "        # TODO: Implement\n",
        "        temp = np.matrix(matrix, dtype=float)\n",
        "        leaky_relu_value = np.maximum(temp, temp*self.negative_slope)\n",
        "        return leaky_relu_value\n",
        "\n",
        "    def derivative(self, matrix):\n",
        "        '''\n",
        "        Returns the derivation value of leaky relu function on input matrix.\n",
        "        \n",
        "            Parameters:\n",
        "                matrix: np.matrix of values\n",
        "            Returns:\n",
        "                leacky_relu_derivative: np.matrix of leaky relu activation function derivation result\n",
        "        '''\n",
        "        # TODO: Implement\n",
        "        leaky_relu_derivative = np.array(matrix, dtype=float)\n",
        "        leaky_relu_derivative = np.where(leaky_relu_derivative > 0, 1.0, self.negative_slope)\n",
        "        return leaky_relu_derivative\n",
        "    \n",
        "    def __call__(self, matrix):\n",
        "        '''\n",
        "        __call__ is a special function in Python that, when implemented inside a class,\n",
        "        gives its instances (objects) the ability to behave like a function.\n",
        "        Here we return the _val method output.\n",
        "            \n",
        "            Parameters:\n",
        "                matrix: np.matrix of values\n",
        "            Returns:\n",
        "                __val(matrix): __val return value for the input matrix\n",
        "        '''\n",
        "        return self.__val(matrix)\n"
      ]
    },
    {
      "cell_type": "code",
      "execution_count": 24,
      "metadata": {},
      "outputs": [
        {
          "name": "stdout",
          "output_type": "stream",
          "text": [
            "[[-0.01  2.  ]\n",
            " [ 3.   -0.04]]\n",
            "[[0.01 1.  ]\n",
            " [1.   0.01]]\n"
          ]
        }
      ],
      "source": [
        "m = np.matrix([[-1,2],[3,-4]])\n",
        "lrelu = LeakyRelu()\n",
        "print(lrelu(m))\n",
        "print(lrelu.derivative(m))"
      ]
    },
    {
      "cell_type": "markdown",
      "metadata": {
        "id": "dwYLakBqoK1B"
      },
      "source": [
        "## Sigmoid Activation Function"
      ]
    },
    {
      "cell_type": "code",
      "execution_count": 25,
      "metadata": {
        "id": "4a5hbC_voNQd"
      },
      "outputs": [],
      "source": [
        "class Sigmoid:\n",
        "    '''\n",
        "    A sigmoid function is a mathematical function having a\n",
        "    characteristic \"S\"-shaped curve or sigmoid curve.\n",
        "    It return S(x)=1/(1+e^-x)\n",
        "    '''\n",
        "    def __init__(self): pass\n",
        "    \n",
        "    def __val(self, matrix):\n",
        "        '''\n",
        "        Returns 1/(1+e^-x) of values\n",
        "        \n",
        "            Parameters:\n",
        "                matrix: np.matrix of values\n",
        "            Returns:\n",
        "                sigmoid_value: np.matrix of relu activation function result\n",
        "        '''\n",
        "        # TODO: Implement\n",
        "        sigmoid_value = np.matrix(1/(1 + np.exp(-matrix)), dtype = float)\n",
        "        return sigmoid_value\n",
        "    \n",
        "    def derivative(self, matrix):\n",
        "        '''\n",
        "        Returns the derivation value of sigmoid function on input matrix.\n",
        "        \n",
        "            Parameters:\n",
        "                matrix: np.matrix of values\n",
        "            Returns:\n",
        "                sigmoid_derivative: np.matrix of sigmoid activation function derivation result\n",
        "        '''\n",
        "        # TODO: Implement\n",
        "        sigmoid = self.__val(matrix)\n",
        "        sigmoid_derivative = np.multiply(sigmoid, np.matrix(1 - sigmoid))\n",
        "        \n",
        "        return sigmoid_derivative\n",
        "    \n",
        "    def __call__(self, matrix):\n",
        "        '''\n",
        "        __call__ is a special function in Python that, when implemented inside a class,\n",
        "        gives its instances (objects) the ability to behave like a function.\n",
        "        Here we return the _val method output.\n",
        "            \n",
        "            Parameters:\n",
        "                matrix: np.matrix of values\n",
        "            Returns:\n",
        "                __val(matrix): __val return value for the input matrix\n",
        "        '''\n",
        "        return self.__val(matrix)\n"
      ]
    },
    {
      "cell_type": "code",
      "execution_count": 26,
      "metadata": {},
      "outputs": [
        {
          "name": "stdout",
          "output_type": "stream",
          "text": [
            "[[0.5        0.88079708]\n",
            " [0.95257413 0.01798621]]\n",
            "[[0.25       0.10499359]\n",
            " [0.04517666 0.01766271]]\n"
          ]
        }
      ],
      "source": [
        "m = np.matrix([[0,2],[3,-4]])\n",
        "sgm = Sigmoid()\n",
        "print(sgm(m))\n",
        "print(sgm.derivative(m))"
      ]
    },
    {
      "cell_type": "markdown",
      "metadata": {},
      "source": [
        "<img src=https://upload.wikimedia.org/wikipedia/commons/thumb/8/88/Logistic-curve.svg/1200px-Logistic-curve.svg.png width=400 style=\"background-color:white;\" />"
      ]
    },
    {
      "cell_type": "markdown",
      "metadata": {
        "id": "L7NG7YvsoSi1"
      },
      "source": [
        "## Softmax Activation Function"
      ]
    },
    {
      "cell_type": "code",
      "execution_count": 27,
      "metadata": {
        "id": "9zXpHZCeoUx-"
      },
      "outputs": [],
      "source": [
        "class Softmax:\n",
        "    '''\n",
        "    The softmax function, also known as softargmax  or normalized\n",
        "    exponential function is a generalization of the logistic\n",
        "    function to multiple dimensions. It is used in multinomial logistic\n",
        "    regression and is often used as the last activation function of a neural\n",
        "    network to normalize the output of a network to a probability distribution\n",
        "    over predicted output classes, based on Luce's choice axiom.\n",
        "    Softmax return (e^x_i / (Σe^x_j for j = 1, ..., J))\n",
        "    '''\n",
        "        \n",
        "    def __init__(self): pass\n",
        "    '''\n",
        "    This is the constructor. It does not have any fields\n",
        "    as a result, there is no need to do anything in the constructor.\n",
        "    '''\n",
        "\n",
        "    def __val(self, matrix):\n",
        "        '''\n",
        "        This private method gets a matrix and uses the softmax on that.\n",
        "        Softmax return (e^x_i / (Σe^x_j for j = 1, ..., J))\n",
        "        \n",
        "            Parameters:\n",
        "                matrix: np.matrix of values\n",
        "            Returns:\n",
        "                relu_value: np.matrix of relu activation function result\n",
        "        '''\n",
        "        # TODO: Implement\n",
        "        matrix -= matrix.max(1)\n",
        "        softmax_value = np.matrix(np.exp(matrix)/np.exp(matrix).sum(1), dtype=float)\n",
        "        return softmax_value\n",
        "    \n",
        "    def __call__(self, matrix):\n",
        "        '''\n",
        "        __call__ is a special function in Python that, when implemented inside a class,\n",
        "        gives its instances (objects) the ability to behave like a function.\n",
        "        Here we return the _val method output.\n",
        "            \n",
        "            Parameters:\n",
        "                matrix: np.matrix of values\n",
        "            Returns:\n",
        "                __val(matrix): __val return value for the input matrix\n",
        "        '''\n",
        "        return self.__val(matrix)\n"
      ]
    },
    {
      "cell_type": "code",
      "execution_count": 28,
      "metadata": {},
      "outputs": [
        {
          "name": "stdout",
          "output_type": "stream",
          "text": [
            "[[7.89711322e-04 1.58617759e-02 1.06875805e-04 1.17203552e-01\n",
            "  1.44640674e-05 8.66023621e-01]]\n"
          ]
        }
      ],
      "source": [
        "test = np.array([[-1, 2, -3, 4, -5, 6]])\n",
        "sm = Softmax()\n",
        "print(sm(test))"
      ]
    },
    {
      "cell_type": "markdown",
      "metadata": {
        "id": "Axc3SjOdobBe"
      },
      "source": [
        "## Tanh Activation Function"
      ]
    },
    {
      "cell_type": "code",
      "execution_count": 29,
      "metadata": {
        "id": "Mg-7zyfpodbZ"
      },
      "outputs": [],
      "source": [
        "class Tanh:\n",
        "    \n",
        "    def __init__(self): pass\n",
        "    '''\n",
        "    This is the constructor. It does not have any fields\n",
        "    as a result, there is no need to do anything in the constructor.\n",
        "    '''\n",
        "\n",
        "    def __val(self, matrix):\n",
        "        '''\n",
        "        This private method gets a matrix and uses the activity function on that.\n",
        "        It performs Tanh on the values.\n",
        "        \n",
        "            Parameters:\n",
        "                matrix: np.matrix of values\n",
        "            Returns:\n",
        "                tanh_value: np.matrix of Tanh activation function result\n",
        "        '''\n",
        "        # TODO: Implement\n",
        "        tanh_value = np.tanh(matrix)\n",
        "        return tanh_value\n",
        "\n",
        "    def derivative(self, matrix):\n",
        "        '''\n",
        "        Returns the derivation value of Tanh function on input matrix.\n",
        "        \n",
        "            Parameters:\n",
        "                matrix: np.matrix of values\n",
        "            Returns:\n",
        "                tanh_derivative: np.matrix of Tanh activation function derivation result\n",
        "        '''\n",
        "        # TODO: Implement\n",
        "        tanh_derivative = 1 - np.power(np.tanh(matrix), 2)\n",
        "        return tanh_derivative\n",
        "    \n",
        "    def __call__(self, matrix):\n",
        "        '''\n",
        "        __call__ is a special function in Python that, when implemented inside a class,\n",
        "        gives its instances (objects) the ability to behave like a function.\n",
        "        Here we return the _val method output.\n",
        "            \n",
        "            Parameters:\n",
        "                matrix: np.matrix of values\n",
        "            Returns:\n",
        "                __val(matrix): __val return value for the input matrix\n",
        "        '''\n",
        "        return self.__val(matrix)\n"
      ]
    },
    {
      "cell_type": "code",
      "execution_count": 30,
      "metadata": {},
      "outputs": [
        {
          "name": "stdout",
          "output_type": "stream",
          "text": [
            "[[ 0.          0.96402758]\n",
            " [ 0.99505475 -0.9993293 ]]\n",
            "[[1.         0.07065082]\n",
            " [0.00986604 0.00134095]]\n"
          ]
        }
      ],
      "source": [
        "m = np.matrix([[0,2],[3,-4]])\n",
        "tanh = Tanh()\n",
        "print(tanh(m))\n",
        "print(tanh.derivative(m))"
      ]
    },
    {
      "cell_type": "markdown",
      "metadata": {},
      "source": [
        "<img src=https://upload.wikimedia.org/wikipedia/commons/thumb/8/87/Hyperbolic_Tangent.svg/2560px-Hyperbolic_Tangent.svg.png width=400 style=\"background-color:white;\" />"
      ]
    },
    {
      "cell_type": "markdown",
      "metadata": {
        "id": "YI-nTt3YjRIO"
      },
      "source": [
        "## Image\n",
        "<img src=https://miro.medium.com/max/1400/1*WePYX1teg2OgyCSo8mn0WQ.png width=700 align=\"center\"/>\n",
        "\n",
        "<img src=https://miro.medium.com/max/3000/1*lyzkak3mPNKmoxs0n-il4Q.png width=700 align=\"center\"/>"
      ]
    },
    {
      "cell_type": "markdown",
      "metadata": {
        "id": "dFU258ZljRIO"
      },
      "source": [
        "# Loss Function"
      ]
    },
    {
      "cell_type": "code",
      "execution_count": 31,
      "metadata": {
        "id": "eaqOb6tCjRIP"
      },
      "outputs": [],
      "source": [
        "class CrossEntropy: #(with softmax)\n",
        "    '''\n",
        "    Cross-entropy is a measure of the difference between two probability\n",
        "    distributions for a given random variable or set of events. You might\n",
        "    recall that information quantifies the number of bits required to encode\n",
        "    and transmit an event.\n",
        "    The above image can help you.\n",
        "    '''\n",
        "    \n",
        "    def __init__(self): pass\n",
        "    '''\n",
        "    This is the constructor. It does not have any fields\n",
        "    as a result, there is no need to do anything in the constructor.\n",
        "    '''\n",
        "\n",
        "    def __val(self, true_val, expected_val):\n",
        "        '''\n",
        "        L(y^, y) = - Σ (y^(k)log (y^)^(k)) for k in K\n",
        "        Parameters:\n",
        "            true_val: calculated values (generated by neural network)\n",
        "            expected_val: real values in dataset\n",
        "        Returns:\n",
        "            cross_entropy_value: cross entropy of inputs\n",
        "        '''\n",
        "        assert np.shape(true_val)==np.shape(expected_val)\n",
        "        # TODO: Implement\n",
        "        p = Softmax()(true_val)\n",
        "        cross_entropy_value = -np.multiply(expected_val, np.ma.log(p)).sum(1)\n",
        "        return cross_entropy_value\n",
        "        \n",
        "    def derivative(self, true_val, expected_val):\n",
        "        '''\n",
        "        Returns derivation of cross entropy.\n",
        "            Parameters:\n",
        "                true_val: calculated values (generated by neural network)\n",
        "                expected_val: real values in dataset\n",
        "            Returns:\n",
        "                cross_entropy_derivative: cross entropy derivation of inputs\n",
        "        '''\n",
        "        assert np.shape(true_val)==np.shape(expected_val)\n",
        "        # TODO: Implement\n",
        "        # The softmax and the cross entropy loss fit together like bread and butter.\n",
        "        # Here is why: to train the network with backpropagation, you need to calculate\n",
        "        # the derivative of the loss. In the general case, that derivative can \n",
        "        # get complicated. But if you use the softmax and the cross entropy loss,\n",
        "        # that complexity fades away. Instead of a long clunky formula,\n",
        "        #  you end up with this terse, easy to compute thing\n",
        "        p = Softmax()(true_val)\n",
        "        cross_entropy_derivative = p - expected_val\n",
        "        return cross_entropy_derivative\n",
        "    \n",
        "    def __call__(self, true_val, expected_val):\n",
        "        '''\n",
        "        __call__ is a special function in Python that, when implemented inside a class,\n",
        "        gives its instances (objects) the ability to behave like a function.\n",
        "        Here we return the _val method output.\n",
        "            \n",
        "            Parameters:\n",
        "                true_val: calculated values (generated by neural network)\n",
        "                expected_val: real values in dataset\n",
        "            Returns:\n",
        "                __val(matrix): __val return value for the input matrix\n",
        "        '''\n",
        "        return self.__val(true_val, expected_val)"
      ]
    },
    {
      "cell_type": "markdown",
      "metadata": {
        "id": "hwp19H74jRIR"
      },
      "source": [
        "# Layer"
      ]
    },
    {
      "cell_type": "code",
      "execution_count": 32,
      "metadata": {
        "id": "LBBMy42WjRIW"
      },
      "outputs": [],
      "source": [
        "class Layer:\n",
        "    '''\n",
        "    The layer class is used to define neural network layers.\n",
        "    It stores all needed information for each layer, such as neurons count,\n",
        "    weight matrix, bias, the output after applying the activation function, etc.\n",
        "    '''\n",
        "\n",
        "    DEFAULT_LOW, DEFAULT_HIGH, DEFAULT_MEAN, DEFAULT_VAR = 0, 0.05, 0., 1.\n",
        "  \n",
        "    def __init__(self, input_size, output_size, activation=Identical(), initial_weight='uniform', \n",
        "                 **initializing_parameters):\n",
        "        '''\n",
        "        Parameters:\n",
        "            input_size: the size of the input of this layer.\n",
        "            output_size: the size of the output after this layer.\n",
        "            activation: the activation function. It can be initialized to either of the previously defined activation classes.\n",
        "                               default is an Identical activation function.\n",
        "            initial_weight: either normal or uniform. It defines the method for weight initialization.\n",
        "        '''\n",
        "        \n",
        "        assert type(initial_weight)==str, 'Undefined activation function!'\n",
        "        \n",
        "        self.__weight_initializer_dict = {'uniform':self.__uniform_weight, 'normal':self.__normal_weight}\n",
        "        \n",
        "        assert initial_weight in self.__weight_initializer_dict, 'Undefined weight initialization function!'\n",
        "\n",
        "\n",
        "        self.__n_neurons = output_size\n",
        "        weight_initializer = self.__weight_initializer_dict[initial_weight]\n",
        "        self.__weight = weight_initializer(input_size, self.__n_neurons, **initializing_parameters)\n",
        "        self.__bias = weight_initializer(1, self.__n_neurons, **initializing_parameters)\n",
        "        self.__activation = activation\n",
        "        \n",
        "        self.__last_input = None\n",
        "        self.__last_activation_input = None\n",
        "        self.__last_activation_output = None\n",
        "        self.__last_activation_derivative = None\n",
        "        \n",
        "    def forward(self, layer_input):\n",
        "        '''\n",
        "        It calculates the output of this layer for the layer_input argument.\n",
        "        This method also stores __last_input, __last_activation_input, and __last_activation_derivative\n",
        "        for future use in backpropagation.\n",
        "        Parameters:\n",
        "            layer_input: 2d np.matrix representing the input matrix of this layer.\n",
        "        Returns:\n",
        "            Final output of this layer after applying the activation function.\n",
        "        '''\n",
        "        assert np.ndim(layer_input)==2\n",
        "        assert np.size(self.__weight,0) == np.size(layer_input,1)\n",
        "        # TODO: Implement\n",
        "        self.__last_input = layer_input\n",
        "        self.__last_activation_input =  (layer_input@self.__weight)+self.__bias\n",
        "        self.__last_activation_output = self.__activation(self.__last_activation_input)\n",
        "        self.__last_activation_derivative = self.__activation.derivative(self.__last_activation_input)\n",
        "        return self.__last_activation_output\n",
        "    \n",
        "    def update_weights(self, backprop_tensor, lr):\n",
        "        '''\n",
        "        It updates Layer weights according to the backpropagation matrix and learning rate.\n",
        "        This method updates bias values as well.\n",
        "        Parameters:\n",
        "            backprop_tensor: 2d np.matrix passed from the next layer containing gradient values.\n",
        "            lr: learning rate\n",
        "        Returns:\n",
        "            backprop_tensor to be used by the previous layer.\n",
        "        '''\n",
        "        assert np.ndim(backprop_tensor)==2\n",
        "        assert np.size(backprop_tensor,0) == np.size(self.__last_activation_derivative,0)\n",
        "        assert np.size(backprop_tensor,1) == self.__n_neurons\n",
        "        # TODO: Implement\n",
        "        inputT = self.__last_input.transpose()\n",
        "        dy = np.multiply(backprop_tensor, self.__last_activation_derivative)\n",
        "        dw = np.matmul(inputT, dy)\n",
        "        backprop_tensor = np.matmul(dy, self.__weight.transpose())\n",
        "        self.__weight -= dw * lr\n",
        "        db = np.matmul(np.matrix(np.tile(1, (1, dy.shape[0]))), dy)\n",
        "        self.__bias -= db * lr\n",
        "        return backprop_tensor\n",
        "\n",
        "    def __uniform_weight(self, dim1, dim2, **initializing_parameters):\n",
        "        '''\n",
        "        Initializes weights as a uniform distribution between low and high values.\n",
        "        It uses default low and high values unless low or high are passed in initializing_parameters.\n",
        "        Parameters:\n",
        "            dim1: the size of the first dimension of weights.\n",
        "            dim2: the size of the second dimension of weights.\n",
        "            initializing_parameters: other initializing parameters; it can include custom low or high values.\n",
        "        Returns:\n",
        "            np.matrix with size (dim1, dim2) initialized using uniformly distributed values.\n",
        "        '''\n",
        "        low, high = self.DEFAULT_LOW, self.DEFAULT_HIGH\n",
        "        if 'low' in initializing_parameters.keys(): low = initializing_parameters['low']\n",
        "        if 'high' in initializing_parameters.keys(): high = initializing_parameters['high']\n",
        "        # TODO: Implement\n",
        "        weights = np.random.uniform(low=low, high=high, size=(dim1, dim2))\n",
        "        return weights\n",
        "\n",
        "    def __normal_weight(self, dim1, dim2, **initializing_parameters):\n",
        "        '''\n",
        "        Initializes weights as a normal distribution with mean and var values.\n",
        "        It uses default mean and variance values unless mean or var are passed in initializing_parameters.\n",
        "        Parameters:\n",
        "            dim1: the size of the first dimension of weights.\n",
        "            dim2: the size of the second dimension of weights.\n",
        "            initializing_parameters: other initializing parameters; it can include custom mean or var values.\n",
        "        Returns:\n",
        "            np.matrix with size (dim1, dim2) initialized using normaly distributed values.\n",
        "        ''' \n",
        "        mean, var = self.DEFAULT_MEAN, self.DEFAULT_VAR\n",
        "        if 'mean' in initializing_parameters.keys(): mean = initializing_parameters['mean']\n",
        "        if 'var' in initializing_parameters.keys(): var = initializing_parameters['var']\n",
        "        # TODO: Implement\n",
        "        weights = np.random.normal(loc=mean, scale=np.sqrt(var), size=(dim1, dim2))\n",
        "        return weights\n",
        "    \n",
        "    @property\n",
        "    def n_neurons(self): return self.__n_neurons\n",
        "    \n",
        "    @property\n",
        "    def weight(self): return self.__weight\n",
        "    \n",
        "    @property\n",
        "    def bias(self): return self.__bias\n",
        "    \n",
        "    @property\n",
        "    def activation(self): return self.__activation"
      ]
    },
    {
      "cell_type": "markdown",
      "metadata": {
        "id": "Z0Pu40GgjRIX"
      },
      "source": [
        "# Feed Forward Neural Network"
      ]
    },
    {
      "cell_type": "code",
      "execution_count": 33,
      "metadata": {
        "id": "6O58-kRRjRIY"
      },
      "outputs": [],
      "source": [
        "class FeedForwardNN:\n",
        "    '''\n",
        "    This class is used in order to implement custom feed-forward neural networks.\n",
        "    The FeedForwardNN class stores a list of layers that determines all network layers.\n",
        "    It also consists of the learning rate and loss function.\n",
        "    '''\n",
        "    def __init__(self, input_shape):\n",
        "        '''\n",
        "        Parameters:\n",
        "            input_shape: the size of the first input to our neural network.\n",
        "        '''\n",
        "        \n",
        "        self.__input_shape = input_shape\n",
        "        self.__output_shape = None\n",
        "        \n",
        "        self.__layers_list = []\n",
        "        \n",
        "        self.__lr = None\n",
        "        self.__loss = None\n",
        "\n",
        "        \n",
        "    def add_layer(self, n_neurons, activation=Relu(), initial_weight='uniform', **initializing_parameters):\n",
        "        '''\n",
        "         This method adds a new custom layer to the layers_list.\n",
        "         Parameters:\n",
        "             n_neurons: number of neurons in this layer\n",
        "             activation: the activation function of this layer, default is Relu\n",
        "             initial_weight: either a uniform or normal, default is uniform\n",
        "             initializing_parameters: other initializing parameters such as low, high, mean, var, etc\n",
        "        '''\n",
        "         \n",
        "        assert type(n_neurons)==int, \"Invalid number of neurons for the layer!\"\n",
        "        assert n_neurons>0, \"Invalid number of neurons for the layer!\"\n",
        "        \n",
        "        n_prev_neurons = self.__input_shape if len(self.__layers_list)==0 else self.__layers_list[-1].n_neurons\n",
        "        new_layer = Layer(n_prev_neurons, n_neurons, activation, initial_weight, **initializing_parameters)\n",
        "        self.__layers_list.append(new_layer)\n",
        "        self.__output_shape = self.__layers_list[-1].n_neurons \n",
        "      \n",
        "    \n",
        "    def set_training_param(self, loss=CrossEntropy(), lr=1e-3):\n",
        "        '''\n",
        "        This method is used to set training parameters.\n",
        "        Parameters:\n",
        "            loss: loss function, default is CrossEntropy\n",
        "            lr: learning rate, default is 1e-3\n",
        "        '''\n",
        "        assert self.__layers_list, \"Uncomplete model!\"\n",
        "        self.__loss = loss\n",
        "        self.__lr = lr\n",
        "    \n",
        "    \n",
        "    def forward(self, network_input):\n",
        "        '''\n",
        "        This method calculates the output of the complete neural network for a passed input.\n",
        "        Parameters:\n",
        "            network_input: input of the neural network\n",
        "        Returns:\n",
        "            network_output: output of the neural network after forwarding the network_input\n",
        "        '''\n",
        "        assert type(self.__output_shape) != None, \"Model is not compiled!\"\n",
        "        # TODO: Implement\n",
        "        network_output = network_input\n",
        "        for layer in self.__layers_list:\n",
        "            network_output = layer.forward(network_output)\n",
        "        \n",
        "        return network_output\n",
        "    \n",
        "    \n",
        "    def fit(self, epochs, trainloader, testloader=None, print_results=True):\n",
        "        '''\n",
        "        This method trains the neural network using specified parameters.\n",
        "        It runs the __train private method epoch times and fills the log dictionary.\n",
        "        Parameters:\n",
        "            epochs: number of epochs to run\n",
        "            trainloader: DataLoader for train data\n",
        "            testloader: DataLoader for test data\n",
        "            print_results: whether or not to print the results\n",
        "        Returns:\n",
        "            log: complete log of the training process as a dictionary consisting of\n",
        "            train_accuracy, train_loss, test_accuracy, test_loss\n",
        "        '''\n",
        "        \n",
        "        assert type(self.__output_shape) != None, \"Model is not compiled!\"\n",
        "        assert type(self.__lr) != None and type(self.__loss) != None, \"Training paramenters are not set!\"\n",
        "\n",
        "        log = {\"train_accuracy\":[], \"train_loss\":[], \"test_accuracy\":[], \"test_loss\":[]}\n",
        "        \n",
        "        for epoch in range(1, epochs+1):\n",
        "            \n",
        "            if print_results: \n",
        "                print('Epoch {}:'.format(epoch)) \n",
        "                \n",
        "            average_accuracy, average_loss = self.__train(trainloader)\n",
        "            log['train_accuracy'].append(average_accuracy)\n",
        "            log['train_loss'].append(average_loss)\n",
        "            if print_results:\n",
        "                print('\\tTrain: Average Accuracy: {}\\tAverage Loss: {}'.format(average_accuracy, average_loss))\n",
        "            \n",
        "            if type(testloader) != type(None):\n",
        "                average_accuracy, average_loss = self.__test(testloader)\n",
        "                log['test_accuracy'].append(average_accuracy)\n",
        "                log['test_loss'].append(average_loss)\n",
        "                if print_results:\n",
        "                    print('\\tTest: Average Accuracy: {}\\tAverage Loss: {}'.format(average_accuracy, average_loss))\n",
        "                    \n",
        "        return log\n",
        "    \n",
        "    \n",
        "    def __train(self, trainloader):\n",
        "        '''\n",
        "        Trains the neural network for one epoch.\n",
        "        Parameters:\n",
        "            trainloader: A DataLoader consisting of train data\n",
        "        Returns:\n",
        "            batch_accuracy, batch_loss: mean of all batch_accuracies, batch_losses\n",
        "        '''\n",
        "        batch_accuracies, batch_losses = [], []\n",
        "        for x_train, y_train in trainloader:\n",
        "            batch_accuracy, batch_loss = self.__train_on_batch(x_train, y_train)\n",
        "            batch_accuracies.append(batch_accuracy)\n",
        "            batch_losses.append(batch_loss)\n",
        "        return np.mean(batch_accuracies), np.mean(batch_losses)\n",
        "    \n",
        "    \n",
        "    def __test(self, testloader):\n",
        "        '''\n",
        "        Test the neural network using a testloader.\n",
        "        Parameters:\n",
        "            testloader: A DataLoader of test data\n",
        "        Returns:\n",
        "            batch_accuracy, batch_loss: mean of all batch_accuracies, batch_losses\n",
        "        '''\n",
        "        batch_accuracies, batch_losses = [], []\n",
        "        for x_test, y_test in testloader:\n",
        "            batch_accuracy, batch_loss = self.__test_on_batch(x_test, y_test)\n",
        "            batch_accuracies.append(batch_accuracy)\n",
        "            batch_losses.append(batch_loss)\n",
        "        return np.mean(batch_accuracies), np.mean(batch_losses)\n",
        "\n",
        "    \n",
        "    def __train_on_batch(self, x_batch, y_batch):\n",
        "        '''\n",
        "        Trains the neural network for one batch of train data.\n",
        "        Parameters:\n",
        "            x_batch: one batch data\n",
        "            y_batch: labels for one batch\n",
        "        Returns:\n",
        "            (batch_accuracy, batch_average_loss)\n",
        "        '''\n",
        "        # TODO: Implement\n",
        "        out = self.forward(x_batch)\n",
        "        return (self.__compute_accuracy(out,y_batch), self.__update_weights(out, y_batch))\n",
        "        \n",
        "        \n",
        "    def __test_on_batch(self, x_batch, y_batch):\n",
        "        '''\n",
        "        Tests the neural network for one batch of test data.\n",
        "        Parameters:\n",
        "            x_batch: one batch data\n",
        "            y_batch: labels for one batch\n",
        "        Returns:\n",
        "            (batch_accuracy, batch_average_loss)\n",
        "        '''  \n",
        "        # TODO: Implement\n",
        "        out = self.forward(x_batch)\n",
        "        batch_accuracy = self.__compute_accuracy(out,y_batch)\n",
        "        cross_entropy = CrossEntropy()\n",
        "        batch_loss = cross_entropy(out, y_batch)\n",
        "        batch_average_loss = np.sum(batch_loss)/len(out)\n",
        "        return (batch_accuracy, batch_average_loss)\n",
        "            \n",
        "        \n",
        "    def __get_labels(self, outputs):\n",
        "        '''\n",
        "        Parameters:\n",
        "            outputs: output of the neural network\n",
        "        Returns:\n",
        "            labels: labels generated from the outputs of the neural network\n",
        "        '''\n",
        "        # TODO: Implement\n",
        "        labels = np.argmax(outputs, axis = 1)\n",
        "        return labels\n",
        "    \n",
        "    \n",
        "    def __compute_accuracy(self, output, expected_output):\n",
        "        '''\n",
        "        Computes accuracy by comparing output and expected_output.\n",
        "        Parameters:\n",
        "            output: actual output of the neural network\n",
        "            expected_output: expected output\n",
        "        Returns:\n",
        "            accuracy\n",
        "        '''\n",
        "        # TODO: Implement\n",
        "        accuracy = (self.__get_labels(output) == self.__get_labels(expected_output)).sum()/len(output)\n",
        "        return accuracy\n",
        "    \n",
        "    \n",
        "    def __update_weights(self, output, y_train):\n",
        "        '''\n",
        "        Updates weights of all layers according to neural network output and labels.\n",
        "        Parameters:\n",
        "            output: output of the neural network\n",
        "            y_train: y labels for one batch of train data\n",
        "        Returns:\n",
        "            None\n",
        "        '''\n",
        "        # TODO: Implement\n",
        "        cross_entropy = CrossEntropy()\n",
        "        batch_loss = cross_entropy(output, y_train)\n",
        "        batch_average_loss = np.sum(batch_loss)/len(output)\n",
        "        temp = cross_entropy.derivative(output, y_train)\n",
        "        for i in reversed(self.__layers_list):\n",
        "            temp = i.update_weights(temp, self.__lr)\n",
        "        return batch_average_loss"
      ]
    },
    {
      "cell_type": "markdown",
      "metadata": {
        "id": "z0N0wPSKjRIZ"
      },
      "source": [
        "# Training Sample Code"
      ]
    },
    {
      "cell_type": "code",
      "execution_count": 34,
      "metadata": {
        "id": "F24Qjkz8jRIZ",
        "scrolled": false
      },
      "outputs": [
        {
          "name": "stdout",
          "output_type": "stream",
          "text": [
            "Epoch 1:\n",
            "\tTrain: Average Accuracy: 0.5015742481203007\tAverage Loss: 0.6969242730449527\n",
            "\tTest: Average Accuracy: 0.5026666666666667\tAverage Loss: 0.69314434101432\n",
            "Epoch 2:\n",
            "\tTrain: Average Accuracy: 0.5027490601503759\tAverage Loss: 0.6933142301077717\n",
            "\tTest: Average Accuracy: 0.5026666666666667\tAverage Loss: 0.693143610335657\n",
            "Epoch 3:\n",
            "\tTrain: Average Accuracy: 0.5027490601503759\tAverage Loss: 0.6933141209218886\n",
            "\tTest: Average Accuracy: 0.5026666666666667\tAverage Loss: 0.6931436004281568\n",
            "Epoch 4:\n",
            "\tTrain: Average Accuracy: 0.5027490601503759\tAverage Loss: 0.6933141194361503\n",
            "\tTest: Average Accuracy: 0.5026666666666667\tAverage Loss: 0.693143600291553\n",
            "Epoch 5:\n",
            "\tTrain: Average Accuracy: 0.5027490601503759\tAverage Loss: 0.693314119415664\n",
            "\tTest: Average Accuracy: 0.5026666666666667\tAverage Loss: 0.6931436002896686\n",
            "Epoch 6:\n",
            "\tTrain: Average Accuracy: 0.5027490601503759\tAverage Loss: 0.6933141194153815\n",
            "\tTest: Average Accuracy: 0.5026666666666667\tAverage Loss: 0.6931436002896431\n",
            "Epoch 7:\n",
            "\tTrain: Average Accuracy: 0.5027490601503759\tAverage Loss: 0.6933141194153777\n",
            "\tTest: Average Accuracy: 0.5026666666666667\tAverage Loss: 0.6931436002896426\n",
            "Epoch 8:\n",
            "\tTrain: Average Accuracy: 0.5027490601503759\tAverage Loss: 0.6933141194153776\n",
            "\tTest: Average Accuracy: 0.5026666666666667\tAverage Loss: 0.6931436002896427\n",
            "Epoch 9:\n",
            "\tTrain: Average Accuracy: 0.5027490601503759\tAverage Loss: 0.6933141194153776\n",
            "\tTest: Average Accuracy: 0.5026666666666667\tAverage Loss: 0.6931436002896427\n",
            "Epoch 10:\n",
            "\tTrain: Average Accuracy: 0.5027490601503759\tAverage Loss: 0.6933141194153776\n",
            "\tTest: Average Accuracy: 0.5026666666666667\tAverage Loss: 0.6931436002896427\n",
            "Epoch 11:\n",
            "\tTrain: Average Accuracy: 0.5027490601503759\tAverage Loss: 0.6933141194153776\n",
            "\tTest: Average Accuracy: 0.5026666666666667\tAverage Loss: 0.6931436002896427\n",
            "Epoch 12:\n",
            "\tTrain: Average Accuracy: 0.5027490601503759\tAverage Loss: 0.6933141194153776\n",
            "\tTest: Average Accuracy: 0.5026666666666667\tAverage Loss: 0.6931436002896427\n",
            "Epoch 13:\n",
            "\tTrain: Average Accuracy: 0.5027490601503759\tAverage Loss: 0.6933141194153776\n",
            "\tTest: Average Accuracy: 0.5026666666666667\tAverage Loss: 0.6931436002896427\n",
            "Epoch 14:\n",
            "\tTrain: Average Accuracy: 0.5027490601503759\tAverage Loss: 0.6933141194153776\n",
            "\tTest: Average Accuracy: 0.5026666666666667\tAverage Loss: 0.6931436002896427\n",
            "Epoch 15:\n",
            "\tTrain: Average Accuracy: 0.5027490601503759\tAverage Loss: 0.6933141194153776\n",
            "\tTest: Average Accuracy: 0.5026666666666667\tAverage Loss: 0.6931436002896427\n"
          ]
        }
      ],
      "source": [
        "# Sample code for building and training a model\n",
        "INPUT_SHAPE = 32*32\n",
        "LEARNING_RATE = 0.001\n",
        "EPOCHS = 15\n",
        "TRAINLOADER = Dataloader(X_train['img'].tolist(), pd.DataFrame({'label':Y_train}), 2, batch_size=32)\n",
        "TESTLOADER = Dataloader(X_test['img'].tolist(), pd.DataFrame({'label':Y_test}), 2)\n",
        "network = FeedForwardNN(INPUT_SHAPE)\n",
        "network.add_layer(n_neurons=40, input_shape=INPUT_SHAPE, activation=Relu(), weight_initializer='uniform')\n",
        "network.add_layer(n_neurons=2, input_shape=INPUT_SHAPE, activation=Relu(), weight_initializer='uniform')\n",
        "network.add_layer(n_neurons=2, activation=Identical(), weight_initializer='uniform')\n",
        "network.set_training_param(loss=CrossEntropy(), lr=LEARNING_RATE)\n",
        "\n",
        "log = network.fit(EPOCHS, TRAINLOADER, TESTLOADER)"
      ]
    },
    {
      "cell_type": "code",
      "execution_count": 35,
      "metadata": {},
      "outputs": [
        {
          "data": {
            "image/png": "[encoded data removed]",
            "text/plain": [
              "<Figure size 432x288 with 1 Axes>"
            ]
          },
          "metadata": {
            "needs_background": "light"
          },
          "output_type": "display_data"
        }
      ],
      "source": [
        "plt.plot(range(EPOCHS), log['train_accuracy'])\n",
        "plt.plot(range(EPOCHS), log['test_accuracy'])\n",
        "plt.title('accuracy')\n",
        "plt.xlabel('epochs')\n",
        "plt.legend(['train', 'test'])\n",
        "plt.show()"
      ]
    },
    {
      "cell_type": "code",
      "execution_count": 36,
      "metadata": {},
      "outputs": [
        {
          "data": {
            "image/png": "[encoded data removed]",
            "text/plain": [
              "<Figure size 432x288 with 1 Axes>"
            ]
          },
          "metadata": {
            "needs_background": "light"
          },
          "output_type": "display_data"
        }
      ],
      "source": [
        "plt.plot(range(EPOCHS), log['train_loss'])\n",
        "plt.plot(range(EPOCHS), log['test_loss'])\n",
        "plt.title('loss')\n",
        "plt.xlabel('epochs')\n",
        "plt.legend(['train', 'test'])\n",
        "plt.show()"
      ]
    },
    {
      "cell_type": "code",
      "execution_count": 37,
      "metadata": {},
      "outputs": [],
      "source": [
        "# Sample code for building and training a model\n",
        "INPUT_SHAPE = 32*32\n",
        "LEARNING_RATE = 0.01\n",
        "EPOCHS = 25\n",
        "TRAINLOADER = Dataloader(X_train['img'].tolist(), pd.DataFrame({'label':Y_train}), 2, batch_size=32)\n",
        "TESTLOADER = Dataloader(X_test['img'].tolist(), pd.DataFrame({'label':Y_test}), 2)\n",
        "network = FeedForwardNN(INPUT_SHAPE)\n",
        "network.add_layer(n_neurons=48, input_shape=INPUT_SHAPE, activation=LeakyRelu(), weight_initializer='uniform')\n",
        "network.add_layer(n_neurons=2, input_shape=INPUT_SHAPE, activation=LeakyRelu(), weight_initializer='uniform')\n",
        "network.add_layer(n_neurons=2, activation=Identical(), weight_initializer='uniform')\n",
        "network.set_training_param(loss=CrossEntropy(), lr=LEARNING_RATE)\n",
        "\n",
        "log = network.fit(EPOCHS, TRAINLOADER, TESTLOADER, print_results=False)"
      ]
    },
    {
      "cell_type": "code",
      "execution_count": 38,
      "metadata": {},
      "outputs": [
        {
          "data": {
            "image/png": "[encoded data removed]",
            "text/plain": [
              "<Figure size 864x360 with 2 Axes>"
            ]
          },
          "metadata": {
            "needs_background": "light"
          },
          "output_type": "display_data"
        }
      ],
      "source": [
        "plt.figure(figsize=(12,5))\n",
        "plt.subplot(121)\n",
        "plt.plot(range(EPOCHS), log['train_accuracy'])\n",
        "plt.plot(range(EPOCHS), log['test_accuracy'])\n",
        "plt.title('accuracy')\n",
        "plt.xlabel('epochs')\n",
        "plt.legend(['train', 'test'])\n",
        "plt.subplot(122)\n",
        "plt.plot(range(EPOCHS), log['train_loss'])\n",
        "plt.plot(range(EPOCHS), log['test_loss'])\n",
        "plt.title('loss')\n",
        "plt.xlabel('epochs')\n",
        "plt.legend(['train', 'test'])\n",
        "plt.show()"
      ]
    },
    {
      "cell_type": "markdown",
      "metadata": {},
      "source": [
        "## Zero initialization:\n",
        "This method serves almost no purpose as it causes neurons to perform the same calculation in each iterations and produces same outputs.  If all the weights are initialized to zeros, the derivatives will remain same for every w. As a result, neurons will learn same features in each iterations. This problem is known as network failing to break symmetry. And not only zero, any constant initialization will produce a poor result."
      ]
    },
    {
      "cell_type": "code",
      "execution_count": 39,
      "metadata": {},
      "outputs": [
        {
          "name": "stdout",
          "output_type": "stream",
          "text": [
            "Epoch 1:\n",
            "\tTrain: Average Accuracy: 0.5430451127819549\tAverage Loss: 0.8672576894394403\n",
            "\tTest: Average Accuracy: 0.6013333333333334\tAverage Loss: 0.6612548196425182\n",
            "Epoch 2:\n",
            "\tTrain: Average Accuracy: 0.5943843984962406\tAverage Loss: 0.6668751095906018\n",
            "\tTest: Average Accuracy: 0.6433333333333333\tAverage Loss: 0.6338288621932343\n",
            "Epoch 3:\n",
            "\tTrain: Average Accuracy: 0.6144031954887218\tAverage Loss: 0.6514976434953392\n",
            "\tTest: Average Accuracy: 0.6493333333333333\tAverage Loss: 0.6231475958469772\n",
            "Epoch 4:\n",
            "\tTrain: Average Accuracy: 0.6334351503759399\tAverage Loss: 0.639809858502305\n",
            "\tTest: Average Accuracy: 0.6613333333333333\tAverage Loss: 0.6073169616838754\n",
            "Epoch 5:\n",
            "\tTrain: Average Accuracy: 0.6424812030075188\tAverage Loss: 0.6284746728650566\n",
            "\tTest: Average Accuracy: 0.672\tAverage Loss: 0.5987349805458136\n",
            "Epoch 6:\n",
            "\tTrain: Average Accuracy: 0.6545112781954887\tAverage Loss: 0.6172445650121657\n",
            "\tTest: Average Accuracy: 0.6846666666666666\tAverage Loss: 0.5882924223106908\n",
            "Epoch 7:\n",
            "\tTrain: Average Accuracy: 0.6605028195488721\tAverage Loss: 0.6109259281682654\n",
            "\tTest: Average Accuracy: 0.6953333333333334\tAverage Loss: 0.583888714547538\n",
            "Epoch 8:\n",
            "\tTrain: Average Accuracy: 0.6662593984962406\tAverage Loss: 0.6054595237184458\n",
            "\tTest: Average Accuracy: 0.7013333333333334\tAverage Loss: 0.5788976969704854\n",
            "Epoch 9:\n",
            "\tTrain: Average Accuracy: 0.6726033834586466\tAverage Loss: 0.5990884441808632\n",
            "\tTest: Average Accuracy: 0.692\tAverage Loss: 0.5845399403023681\n",
            "Epoch 10:\n",
            "\tTrain: Average Accuracy: 0.6790648496240601\tAverage Loss: 0.5924672208048374\n",
            "\tTest: Average Accuracy: 0.706\tAverage Loss: 0.5698885614671684\n",
            "Epoch 11:\n",
            "\tTrain: Average Accuracy: 0.6816494360902255\tAverage Loss: 0.5901804786172901\n",
            "\tTest: Average Accuracy: 0.7033333333333334\tAverage Loss: 0.5670554402865199\n",
            "Epoch 12:\n",
            "\tTrain: Average Accuracy: 0.6837640977443609\tAverage Loss: 0.5888520188728075\n",
            "\tTest: Average Accuracy: 0.7113333333333334\tAverage Loss: 0.5646427470584849\n",
            "Epoch 13:\n",
            "\tTrain: Average Accuracy: 0.6926456766917294\tAverage Loss: 0.576666967168571\n",
            "\tTest: Average Accuracy: 0.7126666666666667\tAverage Loss: 0.5599907473282145\n",
            "Epoch 14:\n",
            "\tTrain: Average Accuracy: 0.6934210526315789\tAverage Loss: 0.5798549108531206\n",
            "\tTest: Average Accuracy: 0.7073333333333334\tAverage Loss: 0.5589090483155972\n",
            "Epoch 15:\n",
            "\tTrain: Average Accuracy: 0.7022791353383459\tAverage Loss: 0.5693588172436123\n",
            "\tTest: Average Accuracy: 0.7146666666666667\tAverage Loss: 0.556529147028148\n",
            "Epoch 16:\n",
            "\tTrain: Average Accuracy: 0.7027020676691729\tAverage Loss: 0.5689073690937032\n",
            "\tTest: Average Accuracy: 0.716\tAverage Loss: 0.5619251111301177\n",
            "Epoch 17:\n",
            "\tTrain: Average Accuracy: 0.7072838345864662\tAverage Loss: 0.5645151468028233\n",
            "\tTest: Average Accuracy: 0.712\tAverage Loss: 0.5515563429745383\n",
            "Epoch 18:\n",
            "\tTrain: Average Accuracy: 0.7121475563909775\tAverage Loss: 0.5555485406100585\n",
            "\tTest: Average Accuracy: 0.7173333333333334\tAverage Loss: 0.5489854528890182\n",
            "Epoch 19:\n",
            "\tTrain: Average Accuracy: 0.7129699248120301\tAverage Loss: 0.5572045372413179\n",
            "\tTest: Average Accuracy: 0.7206666666666667\tAverage Loss: 0.564619796470909\n",
            "Epoch 20:\n",
            "\tTrain: Average Accuracy: 0.7176691729323309\tAverage Loss: 0.5535402613151769\n",
            "\tTest: Average Accuracy: 0.72\tAverage Loss: 0.5468617017494338\n",
            "Epoch 21:\n",
            "\tTrain: Average Accuracy: 0.7214285714285714\tAverage Loss: 0.547718580210029\n",
            "\tTest: Average Accuracy: 0.716\tAverage Loss: 0.5464267795821395\n",
            "Epoch 22:\n",
            "\tTrain: Average Accuracy: 0.7178571428571429\tAverage Loss: 0.5544383348659891\n",
            "\tTest: Average Accuracy: 0.7213333333333334\tAverage Loss: 0.5440089262046394\n",
            "Epoch 23:\n",
            "\tTrain: Average Accuracy: 0.7146851503759398\tAverage Loss: 0.5616847261650142\n",
            "\tTest: Average Accuracy: 0.7266666666666667\tAverage Loss: 0.5432664083965139\n",
            "Epoch 24:\n",
            "\tTrain: Average Accuracy: 0.7277255639097744\tAverage Loss: 0.5392707355901699\n",
            "\tTest: Average Accuracy: 0.7206666666666667\tAverage Loss: 0.5452968163607356\n",
            "Epoch 25:\n",
            "\tTrain: Average Accuracy: 0.725140977443609\tAverage Loss: 0.545867636602174\n",
            "\tTest: Average Accuracy: 0.7246666666666667\tAverage Loss: 0.5537731795196508\n"
          ]
        }
      ],
      "source": [
        "# Sample code for building and training a model\n",
        "INPUT_SHAPE = 32*32\n",
        "LEARNING_RATE = 0.011\n",
        "EPOCHS = 25\n",
        "TRAINLOADER = Dataloader(X_train['img'].tolist(), pd.DataFrame({'label':Y_train}), 2, batch_size=32)\n",
        "TESTLOADER = Dataloader(X_test['img'].tolist(), pd.DataFrame({'label':Y_test}), 2)\n",
        "network = FeedForwardNN(INPUT_SHAPE)\n",
        "network.add_layer(n_neurons=48, input_shape=INPUT_SHAPE, activation=LeakyRelu(), weight_initializer='uniform')\n",
        "network.add_layer(n_neurons=2, input_shape=INPUT_SHAPE, activation=LeakyRelu(), weight_initializer='uniform')\n",
        "network.add_layer(n_neurons=2, activation=Identical(), weight_initializer='uniform')\n",
        "network.set_training_param(loss=CrossEntropy(), lr=LEARNING_RATE)\n",
        "\n",
        "log = network.fit(EPOCHS, TRAINLOADER, TESTLOADER)"
      ]
    },
    {
      "cell_type": "code",
      "execution_count": 40,
      "metadata": {},
      "outputs": [
        {
          "data": {
            "image/png": "[encoded data removed]",
            "text/plain": [
              "<Figure size 864x360 with 2 Axes>"
            ]
          },
          "metadata": {
            "needs_background": "light"
          },
          "output_type": "display_data"
        }
      ],
      "source": [
        "plt.figure(figsize=(12,5))\n",
        "plt.subplot(121)\n",
        "plt.plot(range(EPOCHS), log['train_accuracy'])\n",
        "plt.plot(range(EPOCHS), log['test_accuracy'])\n",
        "plt.title('accuracy')\n",
        "plt.xlabel('epochs')\n",
        "plt.legend(['train', 'test'])\n",
        "plt.subplot(122)\n",
        "plt.plot(range(EPOCHS), log['train_loss'])\n",
        "plt.plot(range(EPOCHS), log['test_loss'])\n",
        "plt.title('loss')\n",
        "plt.xlabel('epochs')\n",
        "plt.legend(['train', 'test'])\n",
        "plt.show()"
      ]
    },
    {
      "cell_type": "markdown",
      "metadata": {},
      "source": [
        "## Learning Rate:\n",
        "* A large learning rate allows the model to learn faster, while arriving on a sub-optimal final set of weights.\n",
        "* A smaller learning rate may allow the model to learn a more optimal or even globally optimal set of weights but may take significantly longer to train (and may not converge at all).\n",
        "\n",
        "$ lr = 0.01 $ is the optimal learning rate"
      ]
    },
    {
      "cell_type": "code",
      "execution_count": 41,
      "metadata": {},
      "outputs": [
        {
          "name": "stdout",
          "output_type": "stream",
          "text": [
            "Epoch 1:\n",
            "\tTrain: Average Accuracy: 0.5013392857142857\tAverage Loss: 0.7004813867585149\n",
            "\tTest: Average Accuracy: 0.42733333333333334\tAverage Loss: 0.6934628676874379\n",
            "Epoch 2:\n",
            "\tTrain: Average Accuracy: 0.49570018796992477\tAverage Loss: 0.6934624319393868\n",
            "\tTest: Average Accuracy: 0.43\tAverage Loss: 0.6933692705503636\n",
            "Epoch 3:\n",
            "\tTrain: Average Accuracy: 0.4976503759398496\tAverage Loss: 0.6934139613885909\n",
            "\tTest: Average Accuracy: 0.42333333333333334\tAverage Loss: 0.6932820398851154\n",
            "Epoch 4:\n",
            "\tTrain: Average Accuracy: 0.49894266917293234\tAverage Loss: 0.6933688633063766\n",
            "\tTest: Average Accuracy: 0.44533333333333336\tAverage Loss: 0.6931995870288343\n",
            "Epoch 5:\n",
            "\tTrain: Average Accuracy: 0.5019266917293232\tAverage Loss: 0.6933261597174779\n",
            "\tTest: Average Accuracy: 0.494\tAverage Loss: 0.6931201334732902\n",
            "Epoch 6:\n",
            "\tTrain: Average Accuracy: 0.5036654135338345\tAverage Loss: 0.693284932994807\n",
            "\tTest: Average Accuracy: 0.5393333333333333\tAverage Loss: 0.6930420983778031\n",
            "Epoch 7:\n",
            "\tTrain: Average Accuracy: 0.5031954887218045\tAverage Loss: 0.6932443828432222\n",
            "\tTest: Average Accuracy: 0.544\tAverage Loss: 0.6929640678056243\n",
            "Epoch 8:\n",
            "\tTrain: Average Accuracy: 0.5041353383458647\tAverage Loss: 0.6932038082879473\n",
            "\tTest: Average Accuracy: 0.5566666666666666\tAverage Loss: 0.6928847702402898\n",
            "Epoch 9:\n",
            "\tTrain: Average Accuracy: 0.5049577067669173\tAverage Loss: 0.6931625953633483\n",
            "\tTest: Average Accuracy: 0.5566666666666666\tAverage Loss: 0.6928030614673528\n",
            "Epoch 10:\n",
            "\tTrain: Average Accuracy: 0.5059680451127819\tAverage Loss: 0.6931202101932173\n",
            "\tTest: Average Accuracy: 0.5526666666666666\tAverage Loss: 0.6927179174996131\n",
            "Epoch 11:\n",
            "\tTrain: Average Accuracy: 0.509140037593985\tAverage Loss: 0.6930761964741843\n",
            "\tTest: Average Accuracy: 0.5586666666666666\tAverage Loss: 0.6926284343477532\n",
            "Epoch 12:\n",
            "\tTrain: Average Accuracy: 0.5110197368421053\tAverage Loss: 0.6930301764481228\n",
            "\tTest: Average Accuracy: 0.5566666666666666\tAverage Loss: 0.6925338334431617\n",
            "Epoch 13:\n",
            "\tTrain: Average Accuracy: 0.5146616541353384\tAverage Loss: 0.692981854433379\n",
            "\tTest: Average Accuracy: 0.558\tAverage Loss: 0.6924334713912655\n",
            "Epoch 14:\n",
            "\tTrain: Average Accuracy: 0.5161889097744361\tAverage Loss: 0.6929310219032205\n",
            "\tTest: Average Accuracy: 0.5586666666666666\tAverage Loss: 0.6923268525171479\n",
            "Epoch 15:\n",
            "\tTrain: Average Accuracy: 0.518890977443609\tAverage Loss: 0.6928775629924272\n",
            "\tTest: Average Accuracy: 0.56\tAverage Loss: 0.6922136424187418\n"
          ]
        }
      ],
      "source": [
        "# Sample code for building and training a model\n",
        "INPUT_SHAPE = 32*32\n",
        "LEARNING_RATE = 0.001\n",
        "EPOCHS = 15\n",
        "TRAINLOADER = Dataloader(X_train['img'].tolist(), pd.DataFrame({'label':Y_train}), 2, batch_size=32)\n",
        "TESTLOADER = Dataloader(X_test['img'].tolist(), pd.DataFrame({'label':Y_test}), 2)\n",
        "network = FeedForwardNN(INPUT_SHAPE)\n",
        "network.add_layer(n_neurons=48, input_shape=INPUT_SHAPE, activation=LeakyRelu(), weight_initializer='uniform')\n",
        "network.add_layer(n_neurons=2, input_shape=INPUT_SHAPE, activation=LeakyRelu(), weight_initializer='uniform')\n",
        "network.add_layer(n_neurons=2, activation=Identical(), weight_initializer='uniform')\n",
        "network.set_training_param(loss=CrossEntropy(), lr=LEARNING_RATE)\n",
        "\n",
        "log = network.fit(EPOCHS, TRAINLOADER, TESTLOADER)"
      ]
    },
    {
      "cell_type": "code",
      "execution_count": 42,
      "metadata": {},
      "outputs": [
        {
          "data": {
            "image/png": "[encoded data removed]",
            "text/plain": [
              "<Figure size 864x360 with 2 Axes>"
            ]
          },
          "metadata": {
            "needs_background": "light"
          },
          "output_type": "display_data"
        }
      ],
      "source": [
        "plt.figure(figsize=(12,5))\n",
        "plt.subplot(121)\n",
        "plt.plot(range(EPOCHS), log['train_accuracy'])\n",
        "plt.plot(range(EPOCHS), log['test_accuracy'])\n",
        "plt.title('accuracy')\n",
        "plt.xlabel('epochs')\n",
        "plt.legend(['train', 'test'])\n",
        "plt.subplot(122)\n",
        "plt.plot(range(EPOCHS), log['train_loss'])\n",
        "plt.plot(range(EPOCHS), log['test_loss'])\n",
        "plt.title('loss')\n",
        "plt.xlabel('epochs')\n",
        "plt.legend(['train', 'test'])\n",
        "plt.show()"
      ]
    },
    {
      "cell_type": "markdown",
      "metadata": {},
      "source": [
        "## Activation Function\n",
        "\n",
        "### Sigmoid & Tanh:\n",
        "* Gradient vanishing phenomenon: When the activation function is close to the saturation region, the change is too slow, the derivative is close to 0, and the mathematical basis for the backward transfer is the chain rule of calculus derivation. So that the training of the deep network cannot be completed.\n",
        "\n",
        "### ReLU:\n",
        "* Dead ReLU Problem: Some neurons may never be activated, causing the corresponding parameters to never be updated (in the negative part, the gradient is 0).\n",
        "\n",
        "### LeakyReLU:\n",
        "* As a solution to the \"Dead ReLU\" problem, the derivative of the LeakyReLU is 1 in the positive part, and is a small fraction in the negative part."
      ]
    },
    {
      "cell_type": "code",
      "execution_count": 43,
      "metadata": {},
      "outputs": [
        {
          "name": "stdout",
          "output_type": "stream",
          "text": [
            "Epoch 1:\n",
            "\tTrain: Average Accuracy: 0.4996005639097745\tAverage Loss: 0.6957773217453754\n",
            "\tTest: Average Accuracy: 0.5026666666666667\tAverage Loss: 0.6955010530291017\n",
            "Epoch 2:\n",
            "\tTrain: Average Accuracy: 0.5003054511278195\tAverage Loss: 0.6947175783037614\n",
            "\tTest: Average Accuracy: 0.5026666666666667\tAverage Loss: 0.6953134741694686\n",
            "Epoch 3:\n",
            "\tTrain: Average Accuracy: 0.4996005639097745\tAverage Loss: 0.6945489118118713\n",
            "\tTest: Average Accuracy: 0.5026666666666667\tAverage Loss: 0.6952595410319736\n",
            "Epoch 4:\n",
            "\tTrain: Average Accuracy: 0.4993656015037594\tAverage Loss: 0.6944998209522295\n",
            "\tTest: Average Accuracy: 0.5026666666666667\tAverage Loss: 0.6952365531159488\n",
            "Epoch 5:\n",
            "\tTrain: Average Accuracy: 0.4993656015037594\tAverage Loss: 0.6944777819272483\n",
            "\tTest: Average Accuracy: 0.5026666666666667\tAverage Loss: 0.6952242347092177\n",
            "Epoch 6:\n",
            "\tTrain: Average Accuracy: 0.4993656015037594\tAverage Loss: 0.6944655230191354\n",
            "\tTest: Average Accuracy: 0.5026666666666667\tAverage Loss: 0.6952166703814647\n",
            "Epoch 7:\n",
            "\tTrain: Average Accuracy: 0.4993656015037594\tAverage Loss: 0.6944577954016959\n",
            "\tTest: Average Accuracy: 0.5026666666666667\tAverage Loss: 0.6952115943757926\n",
            "Epoch 8:\n",
            "\tTrain: Average Accuracy: 0.4993656015037594\tAverage Loss: 0.6944525093744998\n",
            "\tTest: Average Accuracy: 0.5026666666666667\tAverage Loss: 0.6952079703176202\n",
            "Epoch 9:\n",
            "\tTrain: Average Accuracy: 0.4993656015037594\tAverage Loss: 0.694448679571738\n",
            "\tTest: Average Accuracy: 0.5026666666666667\tAverage Loss: 0.6952052621531507\n",
            "Epoch 10:\n",
            "\tTrain: Average Accuracy: 0.4993656015037594\tAverage Loss: 0.6944457840855748\n",
            "\tTest: Average Accuracy: 0.5026666666666667\tAverage Loss: 0.6952031665461276\n",
            "Epoch 11:\n",
            "\tTrain: Average Accuracy: 0.4993656015037594\tAverage Loss: 0.6944435219756553\n",
            "\tTest: Average Accuracy: 0.5026666666666667\tAverage Loss: 0.6952014996844685\n",
            "Epoch 12:\n",
            "\tTrain: Average Accuracy: 0.4993656015037594\tAverage Loss: 0.6944417080865433\n",
            "\tTest: Average Accuracy: 0.5026666666666667\tAverage Loss: 0.6952001440191774\n",
            "Epoch 13:\n",
            "\tTrain: Average Accuracy: 0.4993656015037594\tAverage Loss: 0.6944402225175217\n",
            "\tTest: Average Accuracy: 0.5026666666666667\tAverage Loss: 0.6951990210364647\n",
            "Epoch 14:\n",
            "\tTrain: Average Accuracy: 0.4993656015037594\tAverage Loss: 0.6944389843398038\n",
            "\tTest: Average Accuracy: 0.5026666666666667\tAverage Loss: 0.695198076382566\n",
            "Epoch 15:\n",
            "\tTrain: Average Accuracy: 0.4993656015037594\tAverage Loss: 0.6944379370265877\n",
            "\tTest: Average Accuracy: 0.5026666666666667\tAverage Loss: 0.6951972712826625\n"
          ]
        }
      ],
      "source": [
        "# Sample code for building and training a model\n",
        "INPUT_SHAPE = 32*32\n",
        "LEARNING_RATE = 0.011\n",
        "EPOCHS = 15\n",
        "TRAINLOADER = Dataloader(X_train['img'].tolist(), pd.DataFrame({'label':Y_train}), 2, batch_size=32)\n",
        "TESTLOADER = Dataloader(X_test['img'].tolist(), pd.DataFrame({'label':Y_test}), 2)\n",
        "network = FeedForwardNN(INPUT_SHAPE)\n",
        "network.add_layer(n_neurons=48, input_shape=INPUT_SHAPE, activation=Sigmoid(), weight_initializer='uniform')\n",
        "network.add_layer(n_neurons=2, input_shape=INPUT_SHAPE, activation=Sigmoid(), weight_initializer='uniform')\n",
        "network.add_layer(n_neurons=2, activation=Identical(), weight_initializer='uniform')\n",
        "network.set_training_param(loss=CrossEntropy(), lr=LEARNING_RATE)\n",
        "\n",
        "log = network.fit(EPOCHS, TRAINLOADER, TESTLOADER)"
      ]
    },
    {
      "cell_type": "code",
      "execution_count": 44,
      "metadata": {},
      "outputs": [
        {
          "data": {
            "image/png": "[encoded data removed]",
            "text/plain": [
              "<Figure size 864x360 with 2 Axes>"
            ]
          },
          "metadata": {
            "needs_background": "light"
          },
          "output_type": "display_data"
        }
      ],
      "source": [
        "plt.figure(figsize=(12,5))\n",
        "plt.subplot(121)\n",
        "plt.plot(range(EPOCHS), log['train_accuracy'])\n",
        "plt.plot(range(EPOCHS), log['test_accuracy'])\n",
        "plt.title('accuracy')\n",
        "plt.xlabel('epochs')\n",
        "plt.legend(['train', 'test'])\n",
        "plt.subplot(122)\n",
        "plt.plot(range(EPOCHS), log['train_loss'])\n",
        "plt.plot(range(EPOCHS), log['test_loss'])\n",
        "plt.title('loss')\n",
        "plt.xlabel('epochs')\n",
        "plt.legend(['train', 'test'])\n",
        "plt.show()"
      ]
    },
    {
      "cell_type": "markdown",
      "metadata": {},
      "source": [
        "## Batch Size:\n",
        "\n",
        "* Using Batch:\n",
        "\n",
        "    $\\checkmark$ It requires less memory. Since you train the network using fewer samples, the overall training procedure requires less memory. That's especially important if you are not able to fit the whole dataset in your machine's memory.\n",
        "\n",
        "    $\\checkmark$ Typically networks train faster with mini-batches. That's because we update the weights after each propagation. \n",
        "\n",
        "    $\\times$ The smaller the batch the less accurate the estimate of the gradient will be.\n"
      ]
    },
    {
      "cell_type": "code",
      "execution_count": 45,
      "metadata": {},
      "outputs": [],
      "source": [
        "# Sample code for building and training a model\n",
        "INPUT_SHAPE = 32*32\n",
        "LEARNING_RATE = 0.01\n",
        "EPOCHS = 25\n",
        "TRAINLOADER = Dataloader(X_train['img'].tolist(), pd.DataFrame({'label':Y_train}), 2, batch_size=16)\n",
        "TESTLOADER = Dataloader(X_test['img'].tolist(), pd.DataFrame({'label':Y_test}), 2)\n",
        "network = FeedForwardNN(INPUT_SHAPE)\n",
        "network.add_layer(n_neurons=48, input_shape=INPUT_SHAPE, activation=LeakyRelu(), weight_initializer='uniform')\n",
        "network.add_layer(n_neurons=2, input_shape=INPUT_SHAPE, activation=LeakyRelu(), weight_initializer='uniform')\n",
        "network.add_layer(n_neurons=2, activation=Identical(), weight_initializer='uniform')\n",
        "network.set_training_param(loss=CrossEntropy(), lr=LEARNING_RATE)\n",
        "\n",
        "log = network.fit(EPOCHS, TRAINLOADER, TESTLOADER, print_results=False)"
      ]
    },
    {
      "cell_type": "code",
      "execution_count": 46,
      "metadata": {},
      "outputs": [
        {
          "data": {
            "image/png": "[encoded data removed]",
            "text/plain": [
              "<Figure size 864x360 with 2 Axes>"
            ]
          },
          "metadata": {
            "needs_background": "light"
          },
          "output_type": "display_data"
        }
      ],
      "source": [
        "plt.figure(figsize=(12,5))\n",
        "plt.subplot(121)\n",
        "plt.plot(range(EPOCHS), log['train_accuracy'])\n",
        "plt.plot(range(EPOCHS), log['test_accuracy'])\n",
        "plt.title('accuracy')\n",
        "plt.xlabel('epochs')\n",
        "plt.legend(['train', 'test'])\n",
        "plt.subplot(122)\n",
        "plt.plot(range(EPOCHS), log['train_loss'])\n",
        "plt.plot(range(EPOCHS), log['test_loss'])\n",
        "plt.title('loss')\n",
        "plt.xlabel('epochs')\n",
        "plt.legend(['train', 'test'])\n",
        "plt.show()"
      ]
    }
  ],
  "metadata": {
    "colab": {
      "collapsed_sections": [
        "yEQw354mnykr",
        "OnVG1EsIn51O",
        "tj2tVr9KoB9k",
        "dwYLakBqoK1B",
        "L7NG7YvsoSi1",
        "Axc3SjOdobBe",
        "dFU258ZljRIO"
      ],
      "name": "AI-CA5-P1.ipynb",
      "provenance": []
    },
    "kernelspec": {
      "display_name": "Python 3",
      "language": "python",
      "name": "python3"
    },
    "language_info": {
      "codemirror_mode": {
        "name": "ipython",
        "version": 3
      },
      "file_extension": ".py",
      "mimetype": "text/x-python",
      "name": "python",
      "nbconvert_exporter": "python",
      "pygments_lexer": "ipython3",
      "version": "3.9.6"
    }
  },
  "nbformat": 4,
  "nbformat_minor": 0
}
